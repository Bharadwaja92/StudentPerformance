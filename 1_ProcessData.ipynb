{
 "cells": [
  {
   "cell_type": "code",
   "execution_count": 20,
   "id": "8d8376fd-7714-472e-8ace-786623061509",
   "metadata": {},
   "outputs": [],
   "source": [
    "from sklearn.model_selection import train_test_split\n",
    "import pandas as pd\n",
    "from sklearn.metrics import roc_auc_score\n",
    "from sklearn.metrics import confusion_matrix, roc_curve\n",
    "from sklearn.impute import SimpleImputer, KNNImputer\n",
    "\n",
    "import matplotlib as mpl\n",
    "import matplotlib.pyplot as plt\n",
    "import numpy as np\n",
    "import pandas as pd\n",
    "import re\n",
    "import pickle\n",
    "# import seaborn as sns\n",
    "\n",
    "pd.set_option('display.max_colwidth', None)\n",
    "pd.set_option('float_format', '{:f}'.format)\n",
    "pd.set_option('display.max_columns', 500)\n",
    "pd.set_option('display.width', 1000)"
   ]
  },
  {
   "cell_type": "code",
   "execution_count": null,
   "id": "8da79ab5-4ecd-4432-9068-4f352c39be50",
   "metadata": {},
   "outputs": [],
   "source": []
  },
  {
   "cell_type": "code",
   "execution_count": 2,
   "id": "3fb372eb-bc33-4210-9609-a929d8ba07f5",
   "metadata": {},
   "outputs": [
    {
     "data": {
      "text/plain": [
       "(30641, 14)"
      ]
     },
     "execution_count": 2,
     "metadata": {},
     "output_type": "execute_result"
    }
   ],
   "source": [
    "data_path1 = './Dataset2/Expanded_data_with_more_features.csv'\n",
    "\n",
    "df1 = pd.read_csv(data_path1).drop('Unnamed: 0', axis=1)\n",
    "\n",
    "df1.shape"
   ]
  },
  {
   "cell_type": "code",
   "execution_count": 3,
   "id": "6b03e6a1-ee30-4123-8b9d-20f0fb467d50",
   "metadata": {},
   "outputs": [
    {
     "data": {
      "text/html": [
       "<div>\n",
       "<style scoped>\n",
       "    .dataframe tbody tr th:only-of-type {\n",
       "        vertical-align: middle;\n",
       "    }\n",
       "\n",
       "    .dataframe tbody tr th {\n",
       "        vertical-align: top;\n",
       "    }\n",
       "\n",
       "    .dataframe thead th {\n",
       "        text-align: right;\n",
       "    }\n",
       "</style>\n",
       "<table border=\"1\" class=\"dataframe\">\n",
       "  <thead>\n",
       "    <tr style=\"text-align: right;\">\n",
       "      <th></th>\n",
       "      <th>Gender</th>\n",
       "      <th>EthnicGroup</th>\n",
       "      <th>ParentEduc</th>\n",
       "      <th>LunchType</th>\n",
       "      <th>TestPrep</th>\n",
       "      <th>ParentMaritalStatus</th>\n",
       "      <th>PracticeSport</th>\n",
       "      <th>IsFirstChild</th>\n",
       "      <th>NrSiblings</th>\n",
       "      <th>TransportMeans</th>\n",
       "      <th>WklyStudyHours</th>\n",
       "      <th>MathScore</th>\n",
       "      <th>ReadingScore</th>\n",
       "      <th>WritingScore</th>\n",
       "    </tr>\n",
       "  </thead>\n",
       "  <tbody>\n",
       "    <tr>\n",
       "      <th>0</th>\n",
       "      <td>female</td>\n",
       "      <td>NaN</td>\n",
       "      <td>bachelor's degree</td>\n",
       "      <td>standard</td>\n",
       "      <td>none</td>\n",
       "      <td>married</td>\n",
       "      <td>regularly</td>\n",
       "      <td>yes</td>\n",
       "      <td>3.000000</td>\n",
       "      <td>school_bus</td>\n",
       "      <td>&lt; 5</td>\n",
       "      <td>71</td>\n",
       "      <td>71</td>\n",
       "      <td>74</td>\n",
       "    </tr>\n",
       "    <tr>\n",
       "      <th>1</th>\n",
       "      <td>female</td>\n",
       "      <td>group C</td>\n",
       "      <td>some college</td>\n",
       "      <td>standard</td>\n",
       "      <td>NaN</td>\n",
       "      <td>married</td>\n",
       "      <td>sometimes</td>\n",
       "      <td>yes</td>\n",
       "      <td>0.000000</td>\n",
       "      <td>NaN</td>\n",
       "      <td>5 - 10</td>\n",
       "      <td>69</td>\n",
       "      <td>90</td>\n",
       "      <td>88</td>\n",
       "    </tr>\n",
       "    <tr>\n",
       "      <th>2</th>\n",
       "      <td>female</td>\n",
       "      <td>group B</td>\n",
       "      <td>master's degree</td>\n",
       "      <td>standard</td>\n",
       "      <td>none</td>\n",
       "      <td>single</td>\n",
       "      <td>sometimes</td>\n",
       "      <td>yes</td>\n",
       "      <td>4.000000</td>\n",
       "      <td>school_bus</td>\n",
       "      <td>&lt; 5</td>\n",
       "      <td>87</td>\n",
       "      <td>93</td>\n",
       "      <td>91</td>\n",
       "    </tr>\n",
       "    <tr>\n",
       "      <th>3</th>\n",
       "      <td>male</td>\n",
       "      <td>group A</td>\n",
       "      <td>associate's degree</td>\n",
       "      <td>free/reduced</td>\n",
       "      <td>none</td>\n",
       "      <td>married</td>\n",
       "      <td>never</td>\n",
       "      <td>no</td>\n",
       "      <td>1.000000</td>\n",
       "      <td>NaN</td>\n",
       "      <td>5 - 10</td>\n",
       "      <td>45</td>\n",
       "      <td>56</td>\n",
       "      <td>42</td>\n",
       "    </tr>\n",
       "    <tr>\n",
       "      <th>4</th>\n",
       "      <td>male</td>\n",
       "      <td>group C</td>\n",
       "      <td>some college</td>\n",
       "      <td>standard</td>\n",
       "      <td>none</td>\n",
       "      <td>married</td>\n",
       "      <td>sometimes</td>\n",
       "      <td>yes</td>\n",
       "      <td>0.000000</td>\n",
       "      <td>school_bus</td>\n",
       "      <td>5 - 10</td>\n",
       "      <td>76</td>\n",
       "      <td>78</td>\n",
       "      <td>75</td>\n",
       "    </tr>\n",
       "  </tbody>\n",
       "</table>\n",
       "</div>"
      ],
      "text/plain": [
       "   Gender EthnicGroup          ParentEduc     LunchType TestPrep ParentMaritalStatus PracticeSport IsFirstChild  NrSiblings TransportMeans WklyStudyHours  MathScore  ReadingScore  WritingScore\n",
       "0  female         NaN   bachelor's degree      standard     none             married     regularly          yes    3.000000     school_bus            < 5         71            71            74\n",
       "1  female     group C        some college      standard      NaN             married     sometimes          yes    0.000000            NaN         5 - 10         69            90            88\n",
       "2  female     group B     master's degree      standard     none              single     sometimes          yes    4.000000     school_bus            < 5         87            93            91\n",
       "3    male     group A  associate's degree  free/reduced     none             married         never           no    1.000000            NaN         5 - 10         45            56            42\n",
       "4    male     group C        some college      standard     none             married     sometimes          yes    0.000000     school_bus         5 - 10         76            78            75"
      ]
     },
     "execution_count": 3,
     "metadata": {},
     "output_type": "execute_result"
    }
   ],
   "source": [
    "df1.head()"
   ]
  },
  {
   "cell_type": "code",
   "execution_count": 4,
   "id": "aabde242-aefe-4601-b424-613d0216b401",
   "metadata": {},
   "outputs": [
    {
     "data": {
      "text/plain": [
       "Index(['Gender', 'EthnicGroup', 'ParentEduc', 'LunchType', 'TestPrep', 'ParentMaritalStatus', 'PracticeSport', 'IsFirstChild', 'NrSiblings', 'TransportMeans', 'WklyStudyHours', 'MathScore', 'ReadingScore', 'WritingScore'], dtype='object')"
      ]
     },
     "execution_count": 4,
     "metadata": {},
     "output_type": "execute_result"
    }
   ],
   "source": [
    "df1.columns"
   ]
  },
  {
   "cell_type": "code",
   "execution_count": 5,
   "id": "9ab29b27-14a9-439d-b1e7-9d5c8c61ed12",
   "metadata": {},
   "outputs": [
    {
     "data": {
      "text/plain": [
       "(11, 3, (30641, 14))"
      ]
     },
     "execution_count": 5,
     "metadata": {},
     "output_type": "execute_result"
    }
   ],
   "source": [
    "cat_cols = ['Gender', 'EthnicGroup', 'ParentEduc', 'LunchType', 'TestPrep', 'ParentMaritalStatus', 'PracticeSport', \\\n",
    "           'IsFirstChild', 'NrSiblings', 'TransportMeans', 'WklyStudyHours']\n",
    "num_cols = ['MathScore', 'ReadingScore', 'WritingScore']\n",
    "\n",
    "len(cat_cols), len(num_cols), df1.shape"
   ]
  },
  {
   "cell_type": "code",
   "execution_count": null,
   "id": "348dcf14-f007-4a54-aab6-d62a3bf1738d",
   "metadata": {},
   "outputs": [],
   "source": []
  },
  {
   "cell_type": "code",
   "execution_count": 6,
   "id": "b40ea8e8-a6f7-44f3-923c-e4419adf31c1",
   "metadata": {},
   "outputs": [
    {
     "data": {
      "text/html": [
       "<div>\n",
       "<style scoped>\n",
       "    .dataframe tbody tr th:only-of-type {\n",
       "        vertical-align: middle;\n",
       "    }\n",
       "\n",
       "    .dataframe tbody tr th {\n",
       "        vertical-align: top;\n",
       "    }\n",
       "\n",
       "    .dataframe thead th {\n",
       "        text-align: right;\n",
       "    }\n",
       "</style>\n",
       "<table border=\"1\" class=\"dataframe\">\n",
       "  <thead>\n",
       "    <tr style=\"text-align: right;\">\n",
       "      <th></th>\n",
       "      <th>MathScore</th>\n",
       "      <th>ReadingScore</th>\n",
       "      <th>WritingScore</th>\n",
       "    </tr>\n",
       "  </thead>\n",
       "  <tbody>\n",
       "    <tr>\n",
       "      <th>0</th>\n",
       "      <td>71</td>\n",
       "      <td>71</td>\n",
       "      <td>74</td>\n",
       "    </tr>\n",
       "    <tr>\n",
       "      <th>1</th>\n",
       "      <td>69</td>\n",
       "      <td>90</td>\n",
       "      <td>88</td>\n",
       "    </tr>\n",
       "    <tr>\n",
       "      <th>2</th>\n",
       "      <td>87</td>\n",
       "      <td>93</td>\n",
       "      <td>91</td>\n",
       "    </tr>\n",
       "    <tr>\n",
       "      <th>3</th>\n",
       "      <td>45</td>\n",
       "      <td>56</td>\n",
       "      <td>42</td>\n",
       "    </tr>\n",
       "    <tr>\n",
       "      <th>4</th>\n",
       "      <td>76</td>\n",
       "      <td>78</td>\n",
       "      <td>75</td>\n",
       "    </tr>\n",
       "  </tbody>\n",
       "</table>\n",
       "</div>"
      ],
      "text/plain": [
       "   MathScore  ReadingScore  WritingScore\n",
       "0         71            71            74\n",
       "1         69            90            88\n",
       "2         87            93            91\n",
       "3         45            56            42\n",
       "4         76            78            75"
      ]
     },
     "execution_count": 6,
     "metadata": {},
     "output_type": "execute_result"
    }
   ],
   "source": [
    "df1[num_cols].head()"
   ]
  },
  {
   "cell_type": "code",
   "execution_count": 7,
   "id": "c7c871cb-592c-4aab-8711-c46404814a22",
   "metadata": {},
   "outputs": [
    {
     "data": {
      "text/html": [
       "<div>\n",
       "<style scoped>\n",
       "    .dataframe tbody tr th:only-of-type {\n",
       "        vertical-align: middle;\n",
       "    }\n",
       "\n",
       "    .dataframe tbody tr th {\n",
       "        vertical-align: top;\n",
       "    }\n",
       "\n",
       "    .dataframe thead th {\n",
       "        text-align: right;\n",
       "    }\n",
       "</style>\n",
       "<table border=\"1\" class=\"dataframe\">\n",
       "  <thead>\n",
       "    <tr style=\"text-align: right;\">\n",
       "      <th></th>\n",
       "      <th>MathScore</th>\n",
       "      <th>ReadingScore</th>\n",
       "      <th>WritingScore</th>\n",
       "    </tr>\n",
       "  </thead>\n",
       "  <tbody>\n",
       "    <tr>\n",
       "      <th>count</th>\n",
       "      <td>30641.000000</td>\n",
       "      <td>30641.000000</td>\n",
       "      <td>30641.000000</td>\n",
       "    </tr>\n",
       "    <tr>\n",
       "      <th>mean</th>\n",
       "      <td>66.558402</td>\n",
       "      <td>69.377533</td>\n",
       "      <td>68.418622</td>\n",
       "    </tr>\n",
       "    <tr>\n",
       "      <th>std</th>\n",
       "      <td>15.361616</td>\n",
       "      <td>14.758952</td>\n",
       "      <td>15.443525</td>\n",
       "    </tr>\n",
       "    <tr>\n",
       "      <th>min</th>\n",
       "      <td>0.000000</td>\n",
       "      <td>10.000000</td>\n",
       "      <td>4.000000</td>\n",
       "    </tr>\n",
       "    <tr>\n",
       "      <th>25%</th>\n",
       "      <td>56.000000</td>\n",
       "      <td>59.000000</td>\n",
       "      <td>58.000000</td>\n",
       "    </tr>\n",
       "    <tr>\n",
       "      <th>50%</th>\n",
       "      <td>67.000000</td>\n",
       "      <td>70.000000</td>\n",
       "      <td>69.000000</td>\n",
       "    </tr>\n",
       "    <tr>\n",
       "      <th>75%</th>\n",
       "      <td>78.000000</td>\n",
       "      <td>80.000000</td>\n",
       "      <td>79.000000</td>\n",
       "    </tr>\n",
       "    <tr>\n",
       "      <th>max</th>\n",
       "      <td>100.000000</td>\n",
       "      <td>100.000000</td>\n",
       "      <td>100.000000</td>\n",
       "    </tr>\n",
       "  </tbody>\n",
       "</table>\n",
       "</div>"
      ],
      "text/plain": [
       "         MathScore  ReadingScore  WritingScore\n",
       "count 30641.000000  30641.000000  30641.000000\n",
       "mean     66.558402     69.377533     68.418622\n",
       "std      15.361616     14.758952     15.443525\n",
       "min       0.000000     10.000000      4.000000\n",
       "25%      56.000000     59.000000     58.000000\n",
       "50%      67.000000     70.000000     69.000000\n",
       "75%      78.000000     80.000000     79.000000\n",
       "max     100.000000    100.000000    100.000000"
      ]
     },
     "execution_count": 7,
     "metadata": {},
     "output_type": "execute_result"
    }
   ],
   "source": [
    "df1[num_cols].describe()"
   ]
  },
  {
   "cell_type": "code",
   "execution_count": 8,
   "id": "76cb3260-c5be-4acd-b9aa-4d0e196ba364",
   "metadata": {},
   "outputs": [
    {
     "name": "stdout",
     "output_type": "stream",
     "text": [
      "MathScore\n"
     ]
    },
    {
     "data": {
      "image/png": "[encoded data removed]",
      "text/plain": [
       "<Figure size 640x480 with 1 Axes>"
      ]
     },
     "metadata": {},
     "output_type": "display_data"
    }
   ],
   "source": [
    "print(num_cols[0])\n",
    "plt.hist(df1[num_cols[0]], bins=20)\n",
    "plt.show()"
   ]
  },
  {
   "cell_type": "code",
   "execution_count": 9,
   "id": "4d5df5c3-dfa8-488c-8851-9c3994ac5e51",
   "metadata": {},
   "outputs": [
    {
     "name": "stdout",
     "output_type": "stream",
     "text": [
      "ReadingScore\n"
     ]
    },
    {
     "data": {
      "image/png": "[encoded data removed]",
      "text/plain": [
       "<Figure size 640x480 with 1 Axes>"
      ]
     },
     "metadata": {},
     "output_type": "display_data"
    }
   ],
   "source": [
    "print(num_cols[1])\n",
    "plt.hist(df1[num_cols[1]], bins=20)\n",
    "plt.show()"
   ]
  },
  {
   "cell_type": "code",
   "execution_count": 10,
   "id": "82516aeb-e8bd-4b21-92fa-e7df38c97c12",
   "metadata": {},
   "outputs": [
    {
     "name": "stdout",
     "output_type": "stream",
     "text": [
      "WritingScore\n"
     ]
    },
    {
     "data": {
      "image/png": "[encoded data removed]",
      "text/plain": [
       "<Figure size 640x480 with 1 Axes>"
      ]
     },
     "metadata": {},
     "output_type": "display_data"
    }
   ],
   "source": [
    "print(num_cols[2])\n",
    "plt.hist(df1[num_cols[2]], bins=20)\n",
    "plt.show()"
   ]
  },
  {
   "cell_type": "code",
   "execution_count": null,
   "id": "56d13759-1f51-40c2-8940-6be4c9b31d69",
   "metadata": {},
   "outputs": [],
   "source": []
  },
  {
   "cell_type": "code",
   "execution_count": 11,
   "id": "f329536b-4431-4162-b431-1b05d8e42953",
   "metadata": {},
   "outputs": [
    {
     "data": {
      "text/html": [
       "<div>\n",
       "<style scoped>\n",
       "    .dataframe tbody tr th:only-of-type {\n",
       "        vertical-align: middle;\n",
       "    }\n",
       "\n",
       "    .dataframe tbody tr th {\n",
       "        vertical-align: top;\n",
       "    }\n",
       "\n",
       "    .dataframe thead th {\n",
       "        text-align: right;\n",
       "    }\n",
       "</style>\n",
       "<table border=\"1\" class=\"dataframe\">\n",
       "  <thead>\n",
       "    <tr style=\"text-align: right;\">\n",
       "      <th></th>\n",
       "      <th>NrSiblings</th>\n",
       "      <th>Count</th>\n",
       "    </tr>\n",
       "  </thead>\n",
       "  <tbody>\n",
       "    <tr>\n",
       "      <th>0</th>\n",
       "      <td>1.000000</td>\n",
       "      <td>8217</td>\n",
       "    </tr>\n",
       "    <tr>\n",
       "      <th>1</th>\n",
       "      <td>2.000000</td>\n",
       "      <td>6790</td>\n",
       "    </tr>\n",
       "    <tr>\n",
       "      <th>2</th>\n",
       "      <td>3.000000</td>\n",
       "      <td>6123</td>\n",
       "    </tr>\n",
       "    <tr>\n",
       "      <th>3</th>\n",
       "      <td>0.000000</td>\n",
       "      <td>3085</td>\n",
       "    </tr>\n",
       "    <tr>\n",
       "      <th>4</th>\n",
       "      <td>4.000000</td>\n",
       "      <td>2941</td>\n",
       "    </tr>\n",
       "    <tr>\n",
       "      <th>5</th>\n",
       "      <td>5.000000</td>\n",
       "      <td>1320</td>\n",
       "    </tr>\n",
       "    <tr>\n",
       "      <th>6</th>\n",
       "      <td>6.000000</td>\n",
       "      <td>302</td>\n",
       "    </tr>\n",
       "    <tr>\n",
       "      <th>7</th>\n",
       "      <td>7.000000</td>\n",
       "      <td>291</td>\n",
       "    </tr>\n",
       "  </tbody>\n",
       "</table>\n",
       "</div>"
      ],
      "text/plain": [
       "   NrSiblings  Count\n",
       "0    1.000000   8217\n",
       "1    2.000000   6790\n",
       "2    3.000000   6123\n",
       "3    0.000000   3085\n",
       "4    4.000000   2941\n",
       "5    5.000000   1320\n",
       "6    6.000000    302\n",
       "7    7.000000    291"
      ]
     },
     "execution_count": 11,
     "metadata": {},
     "output_type": "execute_result"
    }
   ],
   "source": [
    "df_counts = df1['NrSiblings'].value_counts().reset_index()\n",
    "df_counts.columns = ['NrSiblings', 'Count']\n",
    "df_counts"
   ]
  },
  {
   "cell_type": "code",
   "execution_count": 12,
   "id": "49d51554-c10c-4add-b20c-f6fcd9aa5537",
   "metadata": {},
   "outputs": [
    {
     "data": {
      "text/plain": [
       "<BarContainer object of 8 artists>"
      ]
     },
     "execution_count": 12,
     "metadata": {},
     "output_type": "execute_result"
    },
    {
     "data": {
      "image/png": "[encoded data removed]",
      "text/plain": [
       "<Figure size 640x480 with 1 Axes>"
      ]
     },
     "metadata": {},
     "output_type": "display_data"
    }
   ],
   "source": [
    "plt.bar(df_counts['NrSiblings'], df_counts['Count'], color='blue')"
   ]
  },
  {
   "cell_type": "code",
   "execution_count": null,
   "id": "cacd9b78-5b30-46c0-aa0c-36d7d466014f",
   "metadata": {},
   "outputs": [],
   "source": []
  },
  {
   "cell_type": "code",
   "execution_count": null,
   "id": "f41a5ea0-8d58-4bbe-8eb0-faf0e6e3a310",
   "metadata": {},
   "outputs": [],
   "source": []
  },
  {
   "cell_type": "code",
   "execution_count": null,
   "id": "78417e67-9764-4506-bbc4-00c6730a5037",
   "metadata": {},
   "outputs": [],
   "source": []
  },
  {
   "cell_type": "code",
   "execution_count": 13,
   "id": "a055334a-91d8-4b19-b745-e3cedfe0762d",
   "metadata": {},
   "outputs": [
    {
     "data": {
      "text/html": [
       "<div>\n",
       "<style scoped>\n",
       "    .dataframe tbody tr th:only-of-type {\n",
       "        vertical-align: middle;\n",
       "    }\n",
       "\n",
       "    .dataframe tbody tr th {\n",
       "        vertical-align: top;\n",
       "    }\n",
       "\n",
       "    .dataframe thead th {\n",
       "        text-align: right;\n",
       "    }\n",
       "</style>\n",
       "<table border=\"1\" class=\"dataframe\">\n",
       "  <thead>\n",
       "    <tr style=\"text-align: right;\">\n",
       "      <th></th>\n",
       "      <th>Gender</th>\n",
       "      <th>EthnicGroup</th>\n",
       "      <th>ParentEduc</th>\n",
       "      <th>LunchType</th>\n",
       "      <th>TestPrep</th>\n",
       "      <th>ParentMaritalStatus</th>\n",
       "      <th>PracticeSport</th>\n",
       "      <th>IsFirstChild</th>\n",
       "      <th>NrSiblings</th>\n",
       "      <th>TransportMeans</th>\n",
       "      <th>WklyStudyHours</th>\n",
       "    </tr>\n",
       "  </thead>\n",
       "  <tbody>\n",
       "    <tr>\n",
       "      <th>0</th>\n",
       "      <td>female</td>\n",
       "      <td>NaN</td>\n",
       "      <td>bachelor's degree</td>\n",
       "      <td>standard</td>\n",
       "      <td>none</td>\n",
       "      <td>married</td>\n",
       "      <td>regularly</td>\n",
       "      <td>yes</td>\n",
       "      <td>3.000000</td>\n",
       "      <td>school_bus</td>\n",
       "      <td>&lt; 5</td>\n",
       "    </tr>\n",
       "    <tr>\n",
       "      <th>1</th>\n",
       "      <td>female</td>\n",
       "      <td>group C</td>\n",
       "      <td>some college</td>\n",
       "      <td>standard</td>\n",
       "      <td>NaN</td>\n",
       "      <td>married</td>\n",
       "      <td>sometimes</td>\n",
       "      <td>yes</td>\n",
       "      <td>0.000000</td>\n",
       "      <td>NaN</td>\n",
       "      <td>5 - 10</td>\n",
       "    </tr>\n",
       "    <tr>\n",
       "      <th>2</th>\n",
       "      <td>female</td>\n",
       "      <td>group B</td>\n",
       "      <td>master's degree</td>\n",
       "      <td>standard</td>\n",
       "      <td>none</td>\n",
       "      <td>single</td>\n",
       "      <td>sometimes</td>\n",
       "      <td>yes</td>\n",
       "      <td>4.000000</td>\n",
       "      <td>school_bus</td>\n",
       "      <td>&lt; 5</td>\n",
       "    </tr>\n",
       "    <tr>\n",
       "      <th>3</th>\n",
       "      <td>male</td>\n",
       "      <td>group A</td>\n",
       "      <td>associate's degree</td>\n",
       "      <td>free/reduced</td>\n",
       "      <td>none</td>\n",
       "      <td>married</td>\n",
       "      <td>never</td>\n",
       "      <td>no</td>\n",
       "      <td>1.000000</td>\n",
       "      <td>NaN</td>\n",
       "      <td>5 - 10</td>\n",
       "    </tr>\n",
       "    <tr>\n",
       "      <th>4</th>\n",
       "      <td>male</td>\n",
       "      <td>group C</td>\n",
       "      <td>some college</td>\n",
       "      <td>standard</td>\n",
       "      <td>none</td>\n",
       "      <td>married</td>\n",
       "      <td>sometimes</td>\n",
       "      <td>yes</td>\n",
       "      <td>0.000000</td>\n",
       "      <td>school_bus</td>\n",
       "      <td>5 - 10</td>\n",
       "    </tr>\n",
       "  </tbody>\n",
       "</table>\n",
       "</div>"
      ],
      "text/plain": [
       "   Gender EthnicGroup          ParentEduc     LunchType TestPrep ParentMaritalStatus PracticeSport IsFirstChild  NrSiblings TransportMeans WklyStudyHours\n",
       "0  female         NaN   bachelor's degree      standard     none             married     regularly          yes    3.000000     school_bus            < 5\n",
       "1  female     group C        some college      standard      NaN             married     sometimes          yes    0.000000            NaN         5 - 10\n",
       "2  female     group B     master's degree      standard     none              single     sometimes          yes    4.000000     school_bus            < 5\n",
       "3    male     group A  associate's degree  free/reduced     none             married         never           no    1.000000            NaN         5 - 10\n",
       "4    male     group C        some college      standard     none             married     sometimes          yes    0.000000     school_bus         5 - 10"
      ]
     },
     "execution_count": 13,
     "metadata": {},
     "output_type": "execute_result"
    }
   ],
   "source": [
    "df1[cat_cols].head()"
   ]
  },
  {
   "cell_type": "code",
   "execution_count": 14,
   "id": "b13ab2da-e0e6-4c56-b6ad-42d95271ada9",
   "metadata": {},
   "outputs": [
    {
     "name": "stdout",
     "output_type": "stream",
     "text": [
      "Num nulls for Gender = 0\n",
      "Num nulls for EthnicGroup = 1840\n",
      "Num nulls for ParentEduc = 1845\n",
      "Num nulls for LunchType = 0\n",
      "Num nulls for TestPrep = 1830\n",
      "Num nulls for ParentMaritalStatus = 1190\n",
      "Num nulls for PracticeSport = 631\n",
      "Num nulls for IsFirstChild = 904\n",
      "Num nulls for NrSiblings = 1572\n",
      "Num nulls for TransportMeans = 3134\n",
      "Num nulls for WklyStudyHours = 955\n"
     ]
    }
   ],
   "source": [
    "for c in cat_cols:\n",
    "    print(f'Num nulls for {c} = {df1[c].isna().sum()}')"
   ]
  },
  {
   "cell_type": "code",
   "execution_count": 19,
   "id": "d9299ee6-cff8-4fc4-aeeb-431dd896b3d2",
   "metadata": {
    "collapsed": true,
    "jupyter": {
     "outputs_hidden": true
    },
    "tags": []
   },
   "outputs": [
    {
     "data": {
      "image/png": "[encoded data removed]",
      "text/plain": [
       "<Figure size 640x480 with 1 Axes>"
      ]
     },
     "metadata": {},
     "output_type": "display_data"
    },
    {
     "data": {
      "image/png": "[encoded data removed]",
      "text/plain": [
       "<Figure size 640x480 with 1 Axes>"
      ]
     },
     "metadata": {},
     "output_type": "display_data"
    },
    {
     "data": {
      "image/png": "[encoded data removed]",
      "text/plain": [
       "<Figure size 640x480 with 1 Axes>"
      ]
     },
     "metadata": {},
     "output_type": "display_data"
    },
    {
     "data": {
      "image/png": "[encoded data removed]",
      "text/plain": [
       "<Figure size 640x480 with 1 Axes>"
      ]
     },
     "metadata": {},
     "output_type": "display_data"
    },
    {
     "data": {
      "image/png": "[encoded data removed]",
      "text/plain": [
       "<Figure size 640x480 with 1 Axes>"
      ]
     },
     "metadata": {},
     "output_type": "display_data"
    },
    {
     "data": {
      "image/png": "[encoded data removed]",
      "text/plain": [
       "<Figure size 640x480 with 1 Axes>"
      ]
     },
     "metadata": {},
     "output_type": "display_data"
    },
    {
     "data": {
      "image/png": "[encoded data removed]",
      "text/plain": [
       "<Figure size 640x480 with 1 Axes>"
      ]
     },
     "metadata": {},
     "output_type": "display_data"
    },
    {
     "data": {
      "image/png": "[encoded data removed]",
      "text/plain": [
       "<Figure size 640x480 with 1 Axes>"
      ]
     },
     "metadata": {},
     "output_type": "display_data"
    },
    {
     "data": {
      "image/png": "[encoded data removed]",
      "text/plain": [
       "<Figure size 640x480 with 1 Axes>"
      ]
     },
     "metadata": {},
     "output_type": "display_data"
    },
    {
     "data": {
      "image/png": "[encoded data removed]",
      "text/plain": [
       "<Figure size 640x480 with 1 Axes>"
      ]
     },
     "metadata": {},
     "output_type": "display_data"
    },
    {
     "data": {
      "image/png": "[encoded data removed]",
      "text/plain": [
       "<Figure size 640x480 with 1 Axes>"
      ]
     },
     "metadata": {},
     "output_type": "display_data"
    }
   ],
   "source": [
    "for c in cat_cols:\n",
    "    # print(df1[c].value_counts())\n",
    "    df_counts = df1[c].value_counts().reset_index()\n",
    "    df_counts.columns = [c, 'Count']\n",
    "    plt.bar(df_counts[c], df_counts['Count']) # , color='blue'\n",
    "    \n",
    "    for index, row in df_counts.iterrows():\n",
    "        plt.text(row[c], row['Count'], str(row['Count']), ha='center', va='bottom')\n",
    "    \n",
    "    plt.xlabel(c)\n",
    "    plt.ylabel('Count')\n",
    "    plt.show()"
   ]
  },
  {
   "cell_type": "markdown",
   "id": "77d21697-cc50-4595-88e1-5e5901795727",
   "metadata": {},
   "source": [
    "## Impute all missing cat cols with Mode"
   ]
  },
  {
   "cell_type": "code",
   "execution_count": 30,
   "id": "c62830f9-cfd5-4dc9-9f93-a02277b72298",
   "metadata": {
    "collapsed": true,
    "jupyter": {
     "outputs_hidden": true
    },
    "tags": []
   },
   "outputs": [
    {
     "name": "stdout",
     "output_type": "stream",
     "text": [
      "female    15424\n",
      "male      15217\n",
      "Name: Gender, dtype: int64\n",
      "female    15424\n",
      "male      15217\n",
      "Name: Gender, dtype: int64 \n",
      "\n",
      "group C    9212\n",
      "group D    7503\n",
      "group B    5826\n",
      "group E    4041\n",
      "group A    2219\n",
      "Name: EthnicGroup, dtype: int64\n",
      "group C    11052\n",
      "group D     7503\n",
      "group B     5826\n",
      "group E     4041\n",
      "group A     2219\n",
      "Name: EthnicGroup, dtype: int64 \n",
      "\n",
      "some college          6633\n",
      "high school           5687\n",
      "associate's degree    5550\n",
      "some high school      5517\n",
      "bachelor's degree     3386\n",
      "master's degree       2023\n",
      "Name: ParentEduc, dtype: int64\n",
      "some college          8478\n",
      "high school           5687\n",
      "associate's degree    5550\n",
      "some high school      5517\n",
      "bachelor's degree     3386\n",
      "master's degree       2023\n",
      "Name: ParentEduc, dtype: int64 \n",
      "\n",
      "standard        19905\n",
      "free/reduced    10736\n",
      "Name: LunchType, dtype: int64\n",
      "standard        19905\n",
      "free/reduced    10736\n",
      "Name: LunchType, dtype: int64 \n",
      "\n",
      "none         18856\n",
      "completed     9955\n",
      "Name: TestPrep, dtype: int64\n",
      "none         20686\n",
      "completed     9955\n",
      "Name: TestPrep, dtype: int64 \n",
      "\n",
      "married     16844\n",
      "single       7097\n",
      "divorced     4919\n",
      "widowed       591\n",
      "Name: ParentMaritalStatus, dtype: int64\n",
      "married     18034\n",
      "single       7097\n",
      "divorced     4919\n",
      "widowed       591\n",
      "Name: ParentMaritalStatus, dtype: int64 \n",
      "\n",
      "sometimes    15213\n",
      "regularly    10793\n",
      "never         4004\n",
      "Name: PracticeSport, dtype: int64\n",
      "sometimes    15844\n",
      "regularly    10793\n",
      "never         4004\n",
      "Name: PracticeSport, dtype: int64 \n",
      "\n",
      "yes    19082\n",
      "no     10655\n",
      "Name: IsFirstChild, dtype: int64\n",
      "yes    19986\n",
      "no     10655\n",
      "Name: IsFirstChild, dtype: int64 \n",
      "\n",
      "1.000000    8217\n",
      "2.000000    6790\n",
      "3.000000    6123\n",
      "0.000000    3085\n",
      "4.000000    2941\n",
      "5.000000    1320\n",
      "6.000000     302\n",
      "7.000000     291\n",
      "Name: NrSiblings, dtype: int64\n",
      "1.000000    9789\n",
      "2.000000    6790\n",
      "3.000000    6123\n",
      "0.000000    3085\n",
      "4.000000    2941\n",
      "5.000000    1320\n",
      "6.000000     302\n",
      "7.000000     291\n",
      "Name: NrSiblings, dtype: int64 \n",
      "\n",
      "school_bus    16145\n",
      "private       11362\n",
      "Name: TransportMeans, dtype: int64\n",
      "school_bus    19279\n",
      "private       11362\n",
      "Name: TransportMeans, dtype: int64 \n",
      "\n",
      "5 - 10    16246\n",
      "< 5        8238\n",
      "> 10       5202\n",
      "Name: WklyStudyHours, dtype: int64\n",
      "5 - 10    17201\n",
      "< 5        8238\n",
      "> 10       5202\n",
      "Name: WklyStudyHours, dtype: int64 \n",
      "\n"
     ]
    }
   ],
   "source": [
    "df2 = df1.copy()\n",
    "for c in cat_cols:\n",
    "    print(df2[c].value_counts())\n",
    "    df2[c].fillna(df2[c].mode()[0], inplace=True)\n",
    "    print(df2[c].value_counts(), '\\n')"
   ]
  },
  {
   "cell_type": "code",
   "execution_count": null,
   "id": "977c85f7-6230-4241-8034-e964d775311d",
   "metadata": {},
   "outputs": [],
   "source": []
  },
  {
   "cell_type": "code",
   "execution_count": 36,
   "id": "ba519e03-9647-42e4-ba81-92b16bda514e",
   "metadata": {},
   "outputs": [
    {
     "name": "stdout",
     "output_type": "stream",
     "text": [
      "Num nulls for Gender = 0\n",
      "Num nulls for EthnicGroup = 0\n",
      "Num nulls for ParentEduc = 0\n",
      "Num nulls for LunchType = 0\n",
      "Num nulls for TestPrep = 0\n",
      "Num nulls for ParentMaritalStatus = 0\n",
      "Num nulls for PracticeSport = 0\n",
      "Num nulls for IsFirstChild = 0\n",
      "Num nulls for NrSiblings = 0\n",
      "Num nulls for TransportMeans = 0\n",
      "Num nulls for WklyStudyHours = 0\n",
      "Num nulls for MathScore = 0\n",
      "Num nulls for ReadingScore = 0\n",
      "Num nulls for WritingScore = 0\n"
     ]
    }
   ],
   "source": [
    "for c in df2.columns:\n",
    "    print(f'Num nulls for {c} = {df2[c].isna().sum()}')"
   ]
  },
  {
   "cell_type": "code",
   "execution_count": null,
   "id": "60e202c6-f8c2-4e13-98e9-c18a410bb990",
   "metadata": {},
   "outputs": [],
   "source": []
  },
  {
   "cell_type": "markdown",
   "id": "ba54dcf5-3af7-4dba-8f28-b793eb77bf6c",
   "metadata": {},
   "source": [
    "## All predictor variables are Categorical. Do One Hot Encoding for all of these"
   ]
  },
  {
   "cell_type": "markdown",
   "id": "4353a73e-92f6-4ac0-a7f1-188b1f6e2f24",
   "metadata": {
    "jp-MarkdownHeadingCollapsed": true,
    "tags": []
   },
   "source": [
    "### Blindly doing OHE"
   ]
  },
  {
   "cell_type": "code",
   "execution_count": 38,
   "id": "6a4cddc2-81a0-492b-a5af-524f01d010bb",
   "metadata": {},
   "outputs": [
    {
     "data": {
      "text/plain": [
       "Index(['MathScore', 'ReadingScore', 'WritingScore', 'Gender_female', 'Gender_male', 'EthnicGroup_group A', 'EthnicGroup_group B', 'EthnicGroup_group C', 'EthnicGroup_group D', 'EthnicGroup_group E', 'ParentEduc_associate's degree', 'ParentEduc_bachelor's degree', 'ParentEduc_high school', 'ParentEduc_master's degree', 'ParentEduc_some college', 'ParentEduc_some high school', 'LunchType_free/reduced', 'LunchType_standard', 'TestPrep_completed', 'TestPrep_none', 'ParentMaritalStatus_divorced', 'ParentMaritalStatus_married', 'ParentMaritalStatus_single', 'ParentMaritalStatus_widowed', 'PracticeSport_never', 'PracticeSport_regularly', 'PracticeSport_sometimes', 'IsFirstChild_no', 'IsFirstChild_yes', 'NrSiblings_0.0', 'NrSiblings_1.0', 'NrSiblings_2.0', 'NrSiblings_3.0', 'NrSiblings_4.0', 'NrSiblings_5.0', 'NrSiblings_6.0', 'NrSiblings_7.0', 'TransportMeans_private', 'TransportMeans_school_bus', 'WklyStudyHours_5 - 10', 'WklyStudyHours_< 5', 'WklyStudyHours_> 10'], dtype='object')"
      ]
     },
     "execution_count": 38,
     "metadata": {},
     "output_type": "execute_result"
    }
   ],
   "source": [
    "df3 = df2.copy()\n",
    "\n",
    "df3 = pd.get_dummies(df3, columns=cat_cols)\n",
    "\n",
    "df3.columns"
   ]
  },
  {
   "cell_type": "code",
   "execution_count": 39,
   "id": "311d4903-5e64-498d-8a13-77bbbd862e01",
   "metadata": {},
   "outputs": [
    {
     "data": {
      "text/html": [
       "<div>\n",
       "<style scoped>\n",
       "    .dataframe tbody tr th:only-of-type {\n",
       "        vertical-align: middle;\n",
       "    }\n",
       "\n",
       "    .dataframe tbody tr th {\n",
       "        vertical-align: top;\n",
       "    }\n",
       "\n",
       "    .dataframe thead th {\n",
       "        text-align: right;\n",
       "    }\n",
       "</style>\n",
       "<table border=\"1\" class=\"dataframe\">\n",
       "  <thead>\n",
       "    <tr style=\"text-align: right;\">\n",
       "      <th></th>\n",
       "      <th>MathScore</th>\n",
       "      <th>ReadingScore</th>\n",
       "      <th>WritingScore</th>\n",
       "      <th>Gender_female</th>\n",
       "      <th>Gender_male</th>\n",
       "      <th>EthnicGroup_group A</th>\n",
       "      <th>EthnicGroup_group B</th>\n",
       "      <th>EthnicGroup_group C</th>\n",
       "      <th>EthnicGroup_group D</th>\n",
       "      <th>EthnicGroup_group E</th>\n",
       "      <th>ParentEduc_associate's degree</th>\n",
       "      <th>ParentEduc_bachelor's degree</th>\n",
       "      <th>ParentEduc_high school</th>\n",
       "      <th>ParentEduc_master's degree</th>\n",
       "      <th>ParentEduc_some college</th>\n",
       "      <th>ParentEduc_some high school</th>\n",
       "      <th>LunchType_free/reduced</th>\n",
       "      <th>LunchType_standard</th>\n",
       "      <th>TestPrep_completed</th>\n",
       "      <th>TestPrep_none</th>\n",
       "      <th>ParentMaritalStatus_divorced</th>\n",
       "      <th>ParentMaritalStatus_married</th>\n",
       "      <th>ParentMaritalStatus_single</th>\n",
       "      <th>ParentMaritalStatus_widowed</th>\n",
       "      <th>PracticeSport_never</th>\n",
       "      <th>PracticeSport_regularly</th>\n",
       "      <th>PracticeSport_sometimes</th>\n",
       "      <th>IsFirstChild_no</th>\n",
       "      <th>IsFirstChild_yes</th>\n",
       "      <th>NrSiblings_0.0</th>\n",
       "      <th>NrSiblings_1.0</th>\n",
       "      <th>NrSiblings_2.0</th>\n",
       "      <th>NrSiblings_3.0</th>\n",
       "      <th>NrSiblings_4.0</th>\n",
       "      <th>NrSiblings_5.0</th>\n",
       "      <th>NrSiblings_6.0</th>\n",
       "      <th>NrSiblings_7.0</th>\n",
       "      <th>TransportMeans_private</th>\n",
       "      <th>TransportMeans_school_bus</th>\n",
       "      <th>WklyStudyHours_5 - 10</th>\n",
       "      <th>WklyStudyHours_&lt; 5</th>\n",
       "      <th>WklyStudyHours_&gt; 10</th>\n",
       "    </tr>\n",
       "  </thead>\n",
       "  <tbody>\n",
       "    <tr>\n",
       "      <th>0</th>\n",
       "      <td>71</td>\n",
       "      <td>71</td>\n",
       "      <td>74</td>\n",
       "      <td>1</td>\n",
       "      <td>0</td>\n",
       "      <td>0</td>\n",
       "      <td>0</td>\n",
       "      <td>1</td>\n",
       "      <td>0</td>\n",
       "      <td>0</td>\n",
       "      <td>0</td>\n",
       "      <td>1</td>\n",
       "      <td>0</td>\n",
       "      <td>0</td>\n",
       "      <td>0</td>\n",
       "      <td>0</td>\n",
       "      <td>0</td>\n",
       "      <td>1</td>\n",
       "      <td>0</td>\n",
       "      <td>1</td>\n",
       "      <td>0</td>\n",
       "      <td>1</td>\n",
       "      <td>0</td>\n",
       "      <td>0</td>\n",
       "      <td>0</td>\n",
       "      <td>1</td>\n",
       "      <td>0</td>\n",
       "      <td>0</td>\n",
       "      <td>1</td>\n",
       "      <td>0</td>\n",
       "      <td>0</td>\n",
       "      <td>0</td>\n",
       "      <td>1</td>\n",
       "      <td>0</td>\n",
       "      <td>0</td>\n",
       "      <td>0</td>\n",
       "      <td>0</td>\n",
       "      <td>0</td>\n",
       "      <td>1</td>\n",
       "      <td>0</td>\n",
       "      <td>1</td>\n",
       "      <td>0</td>\n",
       "    </tr>\n",
       "    <tr>\n",
       "      <th>1</th>\n",
       "      <td>69</td>\n",
       "      <td>90</td>\n",
       "      <td>88</td>\n",
       "      <td>1</td>\n",
       "      <td>0</td>\n",
       "      <td>0</td>\n",
       "      <td>0</td>\n",
       "      <td>1</td>\n",
       "      <td>0</td>\n",
       "      <td>0</td>\n",
       "      <td>0</td>\n",
       "      <td>0</td>\n",
       "      <td>0</td>\n",
       "      <td>0</td>\n",
       "      <td>1</td>\n",
       "      <td>0</td>\n",
       "      <td>0</td>\n",
       "      <td>1</td>\n",
       "      <td>0</td>\n",
       "      <td>1</td>\n",
       "      <td>0</td>\n",
       "      <td>1</td>\n",
       "      <td>0</td>\n",
       "      <td>0</td>\n",
       "      <td>0</td>\n",
       "      <td>0</td>\n",
       "      <td>1</td>\n",
       "      <td>0</td>\n",
       "      <td>1</td>\n",
       "      <td>1</td>\n",
       "      <td>0</td>\n",
       "      <td>0</td>\n",
       "      <td>0</td>\n",
       "      <td>0</td>\n",
       "      <td>0</td>\n",
       "      <td>0</td>\n",
       "      <td>0</td>\n",
       "      <td>0</td>\n",
       "      <td>1</td>\n",
       "      <td>1</td>\n",
       "      <td>0</td>\n",
       "      <td>0</td>\n",
       "    </tr>\n",
       "    <tr>\n",
       "      <th>2</th>\n",
       "      <td>87</td>\n",
       "      <td>93</td>\n",
       "      <td>91</td>\n",
       "      <td>1</td>\n",
       "      <td>0</td>\n",
       "      <td>0</td>\n",
       "      <td>1</td>\n",
       "      <td>0</td>\n",
       "      <td>0</td>\n",
       "      <td>0</td>\n",
       "      <td>0</td>\n",
       "      <td>0</td>\n",
       "      <td>0</td>\n",
       "      <td>1</td>\n",
       "      <td>0</td>\n",
       "      <td>0</td>\n",
       "      <td>0</td>\n",
       "      <td>1</td>\n",
       "      <td>0</td>\n",
       "      <td>1</td>\n",
       "      <td>0</td>\n",
       "      <td>0</td>\n",
       "      <td>1</td>\n",
       "      <td>0</td>\n",
       "      <td>0</td>\n",
       "      <td>0</td>\n",
       "      <td>1</td>\n",
       "      <td>0</td>\n",
       "      <td>1</td>\n",
       "      <td>0</td>\n",
       "      <td>0</td>\n",
       "      <td>0</td>\n",
       "      <td>0</td>\n",
       "      <td>1</td>\n",
       "      <td>0</td>\n",
       "      <td>0</td>\n",
       "      <td>0</td>\n",
       "      <td>0</td>\n",
       "      <td>1</td>\n",
       "      <td>0</td>\n",
       "      <td>1</td>\n",
       "      <td>0</td>\n",
       "    </tr>\n",
       "    <tr>\n",
       "      <th>3</th>\n",
       "      <td>45</td>\n",
       "      <td>56</td>\n",
       "      <td>42</td>\n",
       "      <td>0</td>\n",
       "      <td>1</td>\n",
       "      <td>1</td>\n",
       "      <td>0</td>\n",
       "      <td>0</td>\n",
       "      <td>0</td>\n",
       "      <td>0</td>\n",
       "      <td>1</td>\n",
       "      <td>0</td>\n",
       "      <td>0</td>\n",
       "      <td>0</td>\n",
       "      <td>0</td>\n",
       "      <td>0</td>\n",
       "      <td>1</td>\n",
       "      <td>0</td>\n",
       "      <td>0</td>\n",
       "      <td>1</td>\n",
       "      <td>0</td>\n",
       "      <td>1</td>\n",
       "      <td>0</td>\n",
       "      <td>0</td>\n",
       "      <td>1</td>\n",
       "      <td>0</td>\n",
       "      <td>0</td>\n",
       "      <td>1</td>\n",
       "      <td>0</td>\n",
       "      <td>0</td>\n",
       "      <td>1</td>\n",
       "      <td>0</td>\n",
       "      <td>0</td>\n",
       "      <td>0</td>\n",
       "      <td>0</td>\n",
       "      <td>0</td>\n",
       "      <td>0</td>\n",
       "      <td>0</td>\n",
       "      <td>1</td>\n",
       "      <td>1</td>\n",
       "      <td>0</td>\n",
       "      <td>0</td>\n",
       "    </tr>\n",
       "    <tr>\n",
       "      <th>4</th>\n",
       "      <td>76</td>\n",
       "      <td>78</td>\n",
       "      <td>75</td>\n",
       "      <td>0</td>\n",
       "      <td>1</td>\n",
       "      <td>0</td>\n",
       "      <td>0</td>\n",
       "      <td>1</td>\n",
       "      <td>0</td>\n",
       "      <td>0</td>\n",
       "      <td>0</td>\n",
       "      <td>0</td>\n",
       "      <td>0</td>\n",
       "      <td>0</td>\n",
       "      <td>1</td>\n",
       "      <td>0</td>\n",
       "      <td>0</td>\n",
       "      <td>1</td>\n",
       "      <td>0</td>\n",
       "      <td>1</td>\n",
       "      <td>0</td>\n",
       "      <td>1</td>\n",
       "      <td>0</td>\n",
       "      <td>0</td>\n",
       "      <td>0</td>\n",
       "      <td>0</td>\n",
       "      <td>1</td>\n",
       "      <td>0</td>\n",
       "      <td>1</td>\n",
       "      <td>1</td>\n",
       "      <td>0</td>\n",
       "      <td>0</td>\n",
       "      <td>0</td>\n",
       "      <td>0</td>\n",
       "      <td>0</td>\n",
       "      <td>0</td>\n",
       "      <td>0</td>\n",
       "      <td>0</td>\n",
       "      <td>1</td>\n",
       "      <td>1</td>\n",
       "      <td>0</td>\n",
       "      <td>0</td>\n",
       "    </tr>\n",
       "  </tbody>\n",
       "</table>\n",
       "</div>"
      ],
      "text/plain": [
       "   MathScore  ReadingScore  WritingScore  Gender_female  Gender_male  EthnicGroup_group A  EthnicGroup_group B  EthnicGroup_group C  EthnicGroup_group D  EthnicGroup_group E  ParentEduc_associate's degree  ParentEduc_bachelor's degree  ParentEduc_high school  ParentEduc_master's degree  ParentEduc_some college  ParentEduc_some high school  LunchType_free/reduced  LunchType_standard  TestPrep_completed  TestPrep_none  ParentMaritalStatus_divorced  ParentMaritalStatus_married  ParentMaritalStatus_single  ParentMaritalStatus_widowed  PracticeSport_never  PracticeSport_regularly  PracticeSport_sometimes  IsFirstChild_no  IsFirstChild_yes  NrSiblings_0.0  NrSiblings_1.0  NrSiblings_2.0  NrSiblings_3.0  NrSiblings_4.0  NrSiblings_5.0  NrSiblings_6.0  NrSiblings_7.0  TransportMeans_private  TransportMeans_school_bus  WklyStudyHours_5 - 10  WklyStudyHours_< 5  WklyStudyHours_> 10\n",
       "0         71            71            74              1            0                    0                    0                    1                    0                    0                              0                             1                       0                           0                        0                            0                       0                   1                   0              1                             0                            1                           0                            0                    0                        1                        0                0                 1               0               0               0               1               0               0               0               0                       0                          1                      0                   1                    0\n",
       "1         69            90            88              1            0                    0                    0                    1                    0                    0                              0                             0                       0                           0                        1                            0                       0                   1                   0              1                             0                            1                           0                            0                    0                        0                        1                0                 1               1               0               0               0               0               0               0               0                       0                          1                      1                   0                    0\n",
       "2         87            93            91              1            0                    0                    1                    0                    0                    0                              0                             0                       0                           1                        0                            0                       0                   1                   0              1                             0                            0                           1                            0                    0                        0                        1                0                 1               0               0               0               0               1               0               0               0                       0                          1                      0                   1                    0\n",
       "3         45            56            42              0            1                    1                    0                    0                    0                    0                              1                             0                       0                           0                        0                            0                       1                   0                   0              1                             0                            1                           0                            0                    1                        0                        0                1                 0               0               1               0               0               0               0               0               0                       0                          1                      1                   0                    0\n",
       "4         76            78            75              0            1                    0                    0                    1                    0                    0                              0                             0                       0                           0                        1                            0                       0                   1                   0              1                             0                            1                           0                            0                    0                        0                        1                0                 1               1               0               0               0               0               0               0               0                       0                          1                      1                   0                    0"
      ]
     },
     "execution_count": 39,
     "metadata": {},
     "output_type": "execute_result"
    }
   ],
   "source": [
    "df3.head()"
   ]
  },
  {
   "cell_type": "code",
   "execution_count": null,
   "id": "e1bcfae7-f068-42a8-8964-ba6e8e165b46",
   "metadata": {},
   "outputs": [],
   "source": []
  },
  {
   "cell_type": "markdown",
   "id": "b7ff1601-094a-4bb9-b70c-89db2df113f2",
   "metadata": {},
   "source": [
    "### OHE with some logic"
   ]
  },
  {
   "cell_type": "code",
   "execution_count": 72,
   "id": "e163c32d-715a-4806-a3b6-2bad3d4860d2",
   "metadata": {},
   "outputs": [
    {
     "data": {
      "text/html": [
       "<div>\n",
       "<style scoped>\n",
       "    .dataframe tbody tr th:only-of-type {\n",
       "        vertical-align: middle;\n",
       "    }\n",
       "\n",
       "    .dataframe tbody tr th {\n",
       "        vertical-align: top;\n",
       "    }\n",
       "\n",
       "    .dataframe thead th {\n",
       "        text-align: right;\n",
       "    }\n",
       "</style>\n",
       "<table border=\"1\" class=\"dataframe\">\n",
       "  <thead>\n",
       "    <tr style=\"text-align: right;\">\n",
       "      <th></th>\n",
       "      <th>Gender</th>\n",
       "      <th>EthnicGroup</th>\n",
       "      <th>ParentEduc</th>\n",
       "      <th>LunchType</th>\n",
       "      <th>TestPrep</th>\n",
       "      <th>ParentMaritalStatus</th>\n",
       "      <th>PracticeSport</th>\n",
       "      <th>IsFirstChild</th>\n",
       "      <th>NrSiblings</th>\n",
       "      <th>TransportMeans</th>\n",
       "      <th>WklyStudyHours</th>\n",
       "      <th>MathScore</th>\n",
       "      <th>ReadingScore</th>\n",
       "      <th>WritingScore</th>\n",
       "    </tr>\n",
       "  </thead>\n",
       "  <tbody>\n",
       "    <tr>\n",
       "      <th>0</th>\n",
       "      <td>female</td>\n",
       "      <td>group C</td>\n",
       "      <td>bachelor's degree</td>\n",
       "      <td>standard</td>\n",
       "      <td>none</td>\n",
       "      <td>married</td>\n",
       "      <td>regularly</td>\n",
       "      <td>yes</td>\n",
       "      <td>3.000000</td>\n",
       "      <td>school_bus</td>\n",
       "      <td>&lt; 5</td>\n",
       "      <td>71</td>\n",
       "      <td>71</td>\n",
       "      <td>74</td>\n",
       "    </tr>\n",
       "    <tr>\n",
       "      <th>1</th>\n",
       "      <td>female</td>\n",
       "      <td>group C</td>\n",
       "      <td>some college</td>\n",
       "      <td>standard</td>\n",
       "      <td>none</td>\n",
       "      <td>married</td>\n",
       "      <td>sometimes</td>\n",
       "      <td>yes</td>\n",
       "      <td>0.000000</td>\n",
       "      <td>school_bus</td>\n",
       "      <td>5 - 10</td>\n",
       "      <td>69</td>\n",
       "      <td>90</td>\n",
       "      <td>88</td>\n",
       "    </tr>\n",
       "    <tr>\n",
       "      <th>2</th>\n",
       "      <td>female</td>\n",
       "      <td>group B</td>\n",
       "      <td>master's degree</td>\n",
       "      <td>standard</td>\n",
       "      <td>none</td>\n",
       "      <td>single</td>\n",
       "      <td>sometimes</td>\n",
       "      <td>yes</td>\n",
       "      <td>4.000000</td>\n",
       "      <td>school_bus</td>\n",
       "      <td>&lt; 5</td>\n",
       "      <td>87</td>\n",
       "      <td>93</td>\n",
       "      <td>91</td>\n",
       "    </tr>\n",
       "    <tr>\n",
       "      <th>3</th>\n",
       "      <td>male</td>\n",
       "      <td>group A</td>\n",
       "      <td>associate's degree</td>\n",
       "      <td>free/reduced</td>\n",
       "      <td>none</td>\n",
       "      <td>married</td>\n",
       "      <td>never</td>\n",
       "      <td>no</td>\n",
       "      <td>1.000000</td>\n",
       "      <td>school_bus</td>\n",
       "      <td>5 - 10</td>\n",
       "      <td>45</td>\n",
       "      <td>56</td>\n",
       "      <td>42</td>\n",
       "    </tr>\n",
       "    <tr>\n",
       "      <th>4</th>\n",
       "      <td>male</td>\n",
       "      <td>group C</td>\n",
       "      <td>some college</td>\n",
       "      <td>standard</td>\n",
       "      <td>none</td>\n",
       "      <td>married</td>\n",
       "      <td>sometimes</td>\n",
       "      <td>yes</td>\n",
       "      <td>0.000000</td>\n",
       "      <td>school_bus</td>\n",
       "      <td>5 - 10</td>\n",
       "      <td>76</td>\n",
       "      <td>78</td>\n",
       "      <td>75</td>\n",
       "    </tr>\n",
       "  </tbody>\n",
       "</table>\n",
       "</div>"
      ],
      "text/plain": [
       "   Gender EthnicGroup          ParentEduc     LunchType TestPrep ParentMaritalStatus PracticeSport IsFirstChild  NrSiblings TransportMeans WklyStudyHours  MathScore  ReadingScore  WritingScore\n",
       "0  female     group C   bachelor's degree      standard     none             married     regularly          yes    3.000000     school_bus            < 5         71            71            74\n",
       "1  female     group C        some college      standard     none             married     sometimes          yes    0.000000     school_bus         5 - 10         69            90            88\n",
       "2  female     group B     master's degree      standard     none              single     sometimes          yes    4.000000     school_bus            < 5         87            93            91\n",
       "3    male     group A  associate's degree  free/reduced     none             married         never           no    1.000000     school_bus         5 - 10         45            56            42\n",
       "4    male     group C        some college      standard     none             married     sometimes          yes    0.000000     school_bus         5 - 10         76            78            75"
      ]
     },
     "execution_count": 72,
     "metadata": {},
     "output_type": "execute_result"
    }
   ],
   "source": [
    "df2.head()"
   ]
  },
  {
   "cell_type": "code",
   "execution_count": 73,
   "id": "3459a1db-c96a-4e24-8db2-a935d008d432",
   "metadata": {},
   "outputs": [],
   "source": [
    "df4 = df2.copy()"
   ]
  },
  {
   "cell_type": "code",
   "execution_count": 74,
   "id": "552c5485-84e9-48bf-a260-92059d66152c",
   "metadata": {
    "collapsed": true,
    "jupyter": {
     "outputs_hidden": true
    },
    "tags": []
   },
   "outputs": [
    {
     "name": "stdout",
     "output_type": "stream",
     "text": [
      "female    15424\n",
      "male      15217\n",
      "Name: Gender, dtype: int64  \n",
      "\n",
      "group C    11052\n",
      "group D     7503\n",
      "group B     5826\n",
      "group E     4041\n",
      "group A     2219\n",
      "Name: EthnicGroup, dtype: int64  \n",
      "\n",
      "some college          8478\n",
      "high school           5687\n",
      "associate's degree    5550\n",
      "some high school      5517\n",
      "bachelor's degree     3386\n",
      "master's degree       2023\n",
      "Name: ParentEduc, dtype: int64  \n",
      "\n",
      "standard        19905\n",
      "free/reduced    10736\n",
      "Name: LunchType, dtype: int64  \n",
      "\n",
      "none         20686\n",
      "completed     9955\n",
      "Name: TestPrep, dtype: int64  \n",
      "\n",
      "married     18034\n",
      "single       7097\n",
      "divorced     4919\n",
      "widowed       591\n",
      "Name: ParentMaritalStatus, dtype: int64  \n",
      "\n",
      "sometimes    15844\n",
      "regularly    10793\n",
      "never         4004\n",
      "Name: PracticeSport, dtype: int64  \n",
      "\n",
      "yes    19986\n",
      "no     10655\n",
      "Name: IsFirstChild, dtype: int64  \n",
      "\n",
      "1.000000    9789\n",
      "2.000000    6790\n",
      "3.000000    6123\n",
      "0.000000    3085\n",
      "4.000000    2941\n",
      "5.000000    1320\n",
      "6.000000     302\n",
      "7.000000     291\n",
      "Name: NrSiblings, dtype: int64  \n",
      "\n",
      "school_bus    19279\n",
      "private       11362\n",
      "Name: TransportMeans, dtype: int64  \n",
      "\n",
      "5 - 10    17201\n",
      "< 5        8238\n",
      "> 10       5202\n",
      "Name: WklyStudyHours, dtype: int64  \n",
      "\n"
     ]
    }
   ],
   "source": [
    "for c in cat_cols:\n",
    "    print(df4[c].value_counts(), ' \\n')"
   ]
  },
  {
   "cell_type": "code",
   "execution_count": null,
   "id": "c384cc4d-e610-4c71-aced-55134508d69a",
   "metadata": {},
   "outputs": [],
   "source": []
  },
  {
   "cell_type": "code",
   "execution_count": 75,
   "id": "9cbe1a7e-2e89-49af-85c6-c87931495dbf",
   "metadata": {},
   "outputs": [
    {
     "data": {
      "text/plain": [
       "['< 5', '5 - 10', '> 10']"
      ]
     },
     "execution_count": 75,
     "metadata": {},
     "output_type": "execute_result"
    }
   ],
   "source": [
    "list(df4['WklyStudyHours'].unique())"
   ]
  },
  {
   "cell_type": "code",
   "execution_count": 76,
   "id": "7931901d-b988-4077-9954-488df8f50006",
   "metadata": {},
   "outputs": [],
   "source": [
    "ParentEduc_mapping = {\n",
    " 'high school': 0,\n",
    " 'some high school': 0,\n",
    " 'some college': 1,\n",
    " \"bachelor's degree\": 2,\n",
    " \"associate's degree\": 2,\n",
    " \"master's degree\": 3,\n",
    "}\n",
    "df4['ParentEduc_int'] = df4['ParentEduc'].apply(lambda v: ParentEduc_mapping[v])\n",
    "\n",
    "\n",
    "TestPrep_mapping = {\n",
    "    'none': 0,\n",
    "    'completed': 1\n",
    "}\n",
    "df4['TestPrep_int'] = df4['TestPrep'].apply(lambda v: TestPrep_mapping[v])\n",
    "\n",
    "PracticeSport_mapping = {\n",
    "    'never': 0,\n",
    "    'sometimes': 1, \n",
    "    'regularly': 2,\n",
    "}\n",
    "df4['PracticeSport_int'] = df4['PracticeSport'].apply(lambda v: PracticeSport_mapping[v])\n",
    "\n",
    "# NrSiblings # Convert to int\n",
    "df4['NrSiblings'] = df4['NrSiblings'].astype(int)\n",
    "\n",
    "WklyStudyHours_mapping = {\n",
    "    '< 5': 0, \n",
    "    '5 - 10': 1, \n",
    "    '> 10': 2\n",
    "}\n",
    "df4['WklyStudyHours_int'] = df4['WklyStudyHours'].apply(lambda v: WklyStudyHours_mapping[v])"
   ]
  },
  {
   "cell_type": "code",
   "execution_count": 77,
   "id": "4c6adce4-281c-44ba-bb90-95f4dc61add9",
   "metadata": {},
   "outputs": [
    {
     "data": {
      "text/html": [
       "<div>\n",
       "<style scoped>\n",
       "    .dataframe tbody tr th:only-of-type {\n",
       "        vertical-align: middle;\n",
       "    }\n",
       "\n",
       "    .dataframe tbody tr th {\n",
       "        vertical-align: top;\n",
       "    }\n",
       "\n",
       "    .dataframe thead th {\n",
       "        text-align: right;\n",
       "    }\n",
       "</style>\n",
       "<table border=\"1\" class=\"dataframe\">\n",
       "  <thead>\n",
       "    <tr style=\"text-align: right;\">\n",
       "      <th></th>\n",
       "      <th>Gender</th>\n",
       "      <th>EthnicGroup</th>\n",
       "      <th>ParentEduc</th>\n",
       "      <th>LunchType</th>\n",
       "      <th>TestPrep</th>\n",
       "      <th>ParentMaritalStatus</th>\n",
       "      <th>PracticeSport</th>\n",
       "      <th>IsFirstChild</th>\n",
       "      <th>NrSiblings</th>\n",
       "      <th>TransportMeans</th>\n",
       "      <th>WklyStudyHours</th>\n",
       "      <th>MathScore</th>\n",
       "      <th>ReadingScore</th>\n",
       "      <th>WritingScore</th>\n",
       "      <th>ParentEduc_int</th>\n",
       "      <th>TestPrep_int</th>\n",
       "      <th>PracticeSport_int</th>\n",
       "      <th>WklyStudyHours_int</th>\n",
       "    </tr>\n",
       "  </thead>\n",
       "  <tbody>\n",
       "    <tr>\n",
       "      <th>0</th>\n",
       "      <td>female</td>\n",
       "      <td>group C</td>\n",
       "      <td>bachelor's degree</td>\n",
       "      <td>standard</td>\n",
       "      <td>none</td>\n",
       "      <td>married</td>\n",
       "      <td>regularly</td>\n",
       "      <td>yes</td>\n",
       "      <td>3</td>\n",
       "      <td>school_bus</td>\n",
       "      <td>&lt; 5</td>\n",
       "      <td>71</td>\n",
       "      <td>71</td>\n",
       "      <td>74</td>\n",
       "      <td>2</td>\n",
       "      <td>0</td>\n",
       "      <td>2</td>\n",
       "      <td>0</td>\n",
       "    </tr>\n",
       "    <tr>\n",
       "      <th>1</th>\n",
       "      <td>female</td>\n",
       "      <td>group C</td>\n",
       "      <td>some college</td>\n",
       "      <td>standard</td>\n",
       "      <td>none</td>\n",
       "      <td>married</td>\n",
       "      <td>sometimes</td>\n",
       "      <td>yes</td>\n",
       "      <td>0</td>\n",
       "      <td>school_bus</td>\n",
       "      <td>5 - 10</td>\n",
       "      <td>69</td>\n",
       "      <td>90</td>\n",
       "      <td>88</td>\n",
       "      <td>1</td>\n",
       "      <td>0</td>\n",
       "      <td>1</td>\n",
       "      <td>1</td>\n",
       "    </tr>\n",
       "    <tr>\n",
       "      <th>2</th>\n",
       "      <td>female</td>\n",
       "      <td>group B</td>\n",
       "      <td>master's degree</td>\n",
       "      <td>standard</td>\n",
       "      <td>none</td>\n",
       "      <td>single</td>\n",
       "      <td>sometimes</td>\n",
       "      <td>yes</td>\n",
       "      <td>4</td>\n",
       "      <td>school_bus</td>\n",
       "      <td>&lt; 5</td>\n",
       "      <td>87</td>\n",
       "      <td>93</td>\n",
       "      <td>91</td>\n",
       "      <td>3</td>\n",
       "      <td>0</td>\n",
       "      <td>1</td>\n",
       "      <td>0</td>\n",
       "    </tr>\n",
       "    <tr>\n",
       "      <th>3</th>\n",
       "      <td>male</td>\n",
       "      <td>group A</td>\n",
       "      <td>associate's degree</td>\n",
       "      <td>free/reduced</td>\n",
       "      <td>none</td>\n",
       "      <td>married</td>\n",
       "      <td>never</td>\n",
       "      <td>no</td>\n",
       "      <td>1</td>\n",
       "      <td>school_bus</td>\n",
       "      <td>5 - 10</td>\n",
       "      <td>45</td>\n",
       "      <td>56</td>\n",
       "      <td>42</td>\n",
       "      <td>2</td>\n",
       "      <td>0</td>\n",
       "      <td>0</td>\n",
       "      <td>1</td>\n",
       "    </tr>\n",
       "    <tr>\n",
       "      <th>4</th>\n",
       "      <td>male</td>\n",
       "      <td>group C</td>\n",
       "      <td>some college</td>\n",
       "      <td>standard</td>\n",
       "      <td>none</td>\n",
       "      <td>married</td>\n",
       "      <td>sometimes</td>\n",
       "      <td>yes</td>\n",
       "      <td>0</td>\n",
       "      <td>school_bus</td>\n",
       "      <td>5 - 10</td>\n",
       "      <td>76</td>\n",
       "      <td>78</td>\n",
       "      <td>75</td>\n",
       "      <td>1</td>\n",
       "      <td>0</td>\n",
       "      <td>1</td>\n",
       "      <td>1</td>\n",
       "    </tr>\n",
       "  </tbody>\n",
       "</table>\n",
       "</div>"
      ],
      "text/plain": [
       "   Gender EthnicGroup          ParentEduc     LunchType TestPrep ParentMaritalStatus PracticeSport IsFirstChild  NrSiblings TransportMeans WklyStudyHours  MathScore  ReadingScore  WritingScore  ParentEduc_int  TestPrep_int  PracticeSport_int  WklyStudyHours_int\n",
       "0  female     group C   bachelor's degree      standard     none             married     regularly          yes           3     school_bus            < 5         71            71            74               2             0                  2                   0\n",
       "1  female     group C        some college      standard     none             married     sometimes          yes           0     school_bus         5 - 10         69            90            88               1             0                  1                   1\n",
       "2  female     group B     master's degree      standard     none              single     sometimes          yes           4     school_bus            < 5         87            93            91               3             0                  1                   0\n",
       "3    male     group A  associate's degree  free/reduced     none             married         never           no           1     school_bus         5 - 10         45            56            42               2             0                  0                   1\n",
       "4    male     group C        some college      standard     none             married     sometimes          yes           0     school_bus         5 - 10         76            78            75               1             0                  1                   1"
      ]
     },
     "execution_count": 77,
     "metadata": {},
     "output_type": "execute_result"
    }
   ],
   "source": [
    "df4.head()"
   ]
  },
  {
   "cell_type": "code",
   "execution_count": 66,
   "id": "7d920c69-e09d-4d95-abbf-bd0bb3de9e3e",
   "metadata": {},
   "outputs": [
    {
     "data": {
      "text/plain": [
       "Index(['ParentEduc', 'TestPrep', 'PracticeSport', 'NrSiblings', 'WklyStudyHours', 'MathScore', 'ReadingScore', 'WritingScore', 'ParentEduc_int', 'TestPrep_int', 'PracticeSport_int', 'WklyStudyHours_int', 'Gender_female', 'Gender_male', 'EthnicGroup_group A', 'EthnicGroup_group B', 'EthnicGroup_group C', 'EthnicGroup_group D', 'EthnicGroup_group E', 'LunchType_free/reduced', 'LunchType_standard', 'ParentMaritalStatus_divorced', 'ParentMaritalStatus_married', 'ParentMaritalStatus_single', 'ParentMaritalStatus_widowed', 'IsFirstChild_no', 'IsFirstChild_yes', 'TransportMeans_private', 'TransportMeans_school_bus'], dtype='object')"
      ]
     },
     "execution_count": 66,
     "metadata": {},
     "output_type": "execute_result"
    }
   ],
   "source": [
    "cols_to_ohe = ['Gender', 'EthnicGroup', 'LunchType', 'ParentMaritalStatus', 'IsFirstChild', 'TransportMeans']\n",
    "\n",
    "df4 = pd.get_dummies(df4, columns=cols_to_ohe)\n",
    "\n",
    "df4.columns"
   ]
  },
  {
   "cell_type": "code",
   "execution_count": 67,
   "id": "9b1ca1c2-e3ec-430b-9986-f06c642f7c22",
   "metadata": {},
   "outputs": [
    {
     "data": {
      "text/html": [
       "<div>\n",
       "<style scoped>\n",
       "    .dataframe tbody tr th:only-of-type {\n",
       "        vertical-align: middle;\n",
       "    }\n",
       "\n",
       "    .dataframe tbody tr th {\n",
       "        vertical-align: top;\n",
       "    }\n",
       "\n",
       "    .dataframe thead th {\n",
       "        text-align: right;\n",
       "    }\n",
       "</style>\n",
       "<table border=\"1\" class=\"dataframe\">\n",
       "  <thead>\n",
       "    <tr style=\"text-align: right;\">\n",
       "      <th></th>\n",
       "      <th>ParentEduc</th>\n",
       "      <th>TestPrep</th>\n",
       "      <th>PracticeSport</th>\n",
       "      <th>NrSiblings</th>\n",
       "      <th>WklyStudyHours</th>\n",
       "      <th>MathScore</th>\n",
       "      <th>ReadingScore</th>\n",
       "      <th>WritingScore</th>\n",
       "      <th>ParentEduc_int</th>\n",
       "      <th>TestPrep_int</th>\n",
       "      <th>PracticeSport_int</th>\n",
       "      <th>WklyStudyHours_int</th>\n",
       "      <th>Gender_female</th>\n",
       "      <th>Gender_male</th>\n",
       "      <th>EthnicGroup_group A</th>\n",
       "      <th>EthnicGroup_group B</th>\n",
       "      <th>EthnicGroup_group C</th>\n",
       "      <th>EthnicGroup_group D</th>\n",
       "      <th>EthnicGroup_group E</th>\n",
       "      <th>LunchType_free/reduced</th>\n",
       "      <th>LunchType_standard</th>\n",
       "      <th>ParentMaritalStatus_divorced</th>\n",
       "      <th>ParentMaritalStatus_married</th>\n",
       "      <th>ParentMaritalStatus_single</th>\n",
       "      <th>ParentMaritalStatus_widowed</th>\n",
       "      <th>IsFirstChild_no</th>\n",
       "      <th>IsFirstChild_yes</th>\n",
       "      <th>TransportMeans_private</th>\n",
       "      <th>TransportMeans_school_bus</th>\n",
       "    </tr>\n",
       "  </thead>\n",
       "  <tbody>\n",
       "    <tr>\n",
       "      <th>0</th>\n",
       "      <td>bachelor's degree</td>\n",
       "      <td>none</td>\n",
       "      <td>regularly</td>\n",
       "      <td>3</td>\n",
       "      <td>&lt; 5</td>\n",
       "      <td>71</td>\n",
       "      <td>71</td>\n",
       "      <td>74</td>\n",
       "      <td>2</td>\n",
       "      <td>0</td>\n",
       "      <td>2</td>\n",
       "      <td>0</td>\n",
       "      <td>1</td>\n",
       "      <td>0</td>\n",
       "      <td>0</td>\n",
       "      <td>0</td>\n",
       "      <td>1</td>\n",
       "      <td>0</td>\n",
       "      <td>0</td>\n",
       "      <td>0</td>\n",
       "      <td>1</td>\n",
       "      <td>0</td>\n",
       "      <td>1</td>\n",
       "      <td>0</td>\n",
       "      <td>0</td>\n",
       "      <td>0</td>\n",
       "      <td>1</td>\n",
       "      <td>0</td>\n",
       "      <td>1</td>\n",
       "    </tr>\n",
       "    <tr>\n",
       "      <th>1</th>\n",
       "      <td>some college</td>\n",
       "      <td>none</td>\n",
       "      <td>sometimes</td>\n",
       "      <td>0</td>\n",
       "      <td>5 - 10</td>\n",
       "      <td>69</td>\n",
       "      <td>90</td>\n",
       "      <td>88</td>\n",
       "      <td>1</td>\n",
       "      <td>0</td>\n",
       "      <td>1</td>\n",
       "      <td>1</td>\n",
       "      <td>1</td>\n",
       "      <td>0</td>\n",
       "      <td>0</td>\n",
       "      <td>0</td>\n",
       "      <td>1</td>\n",
       "      <td>0</td>\n",
       "      <td>0</td>\n",
       "      <td>0</td>\n",
       "      <td>1</td>\n",
       "      <td>0</td>\n",
       "      <td>1</td>\n",
       "      <td>0</td>\n",
       "      <td>0</td>\n",
       "      <td>0</td>\n",
       "      <td>1</td>\n",
       "      <td>0</td>\n",
       "      <td>1</td>\n",
       "    </tr>\n",
       "    <tr>\n",
       "      <th>2</th>\n",
       "      <td>master's degree</td>\n",
       "      <td>none</td>\n",
       "      <td>sometimes</td>\n",
       "      <td>4</td>\n",
       "      <td>&lt; 5</td>\n",
       "      <td>87</td>\n",
       "      <td>93</td>\n",
       "      <td>91</td>\n",
       "      <td>3</td>\n",
       "      <td>0</td>\n",
       "      <td>1</td>\n",
       "      <td>0</td>\n",
       "      <td>1</td>\n",
       "      <td>0</td>\n",
       "      <td>0</td>\n",
       "      <td>1</td>\n",
       "      <td>0</td>\n",
       "      <td>0</td>\n",
       "      <td>0</td>\n",
       "      <td>0</td>\n",
       "      <td>1</td>\n",
       "      <td>0</td>\n",
       "      <td>0</td>\n",
       "      <td>1</td>\n",
       "      <td>0</td>\n",
       "      <td>0</td>\n",
       "      <td>1</td>\n",
       "      <td>0</td>\n",
       "      <td>1</td>\n",
       "    </tr>\n",
       "    <tr>\n",
       "      <th>3</th>\n",
       "      <td>associate's degree</td>\n",
       "      <td>none</td>\n",
       "      <td>never</td>\n",
       "      <td>1</td>\n",
       "      <td>5 - 10</td>\n",
       "      <td>45</td>\n",
       "      <td>56</td>\n",
       "      <td>42</td>\n",
       "      <td>2</td>\n",
       "      <td>0</td>\n",
       "      <td>0</td>\n",
       "      <td>1</td>\n",
       "      <td>0</td>\n",
       "      <td>1</td>\n",
       "      <td>1</td>\n",
       "      <td>0</td>\n",
       "      <td>0</td>\n",
       "      <td>0</td>\n",
       "      <td>0</td>\n",
       "      <td>1</td>\n",
       "      <td>0</td>\n",
       "      <td>0</td>\n",
       "      <td>1</td>\n",
       "      <td>0</td>\n",
       "      <td>0</td>\n",
       "      <td>1</td>\n",
       "      <td>0</td>\n",
       "      <td>0</td>\n",
       "      <td>1</td>\n",
       "    </tr>\n",
       "    <tr>\n",
       "      <th>4</th>\n",
       "      <td>some college</td>\n",
       "      <td>none</td>\n",
       "      <td>sometimes</td>\n",
       "      <td>0</td>\n",
       "      <td>5 - 10</td>\n",
       "      <td>76</td>\n",
       "      <td>78</td>\n",
       "      <td>75</td>\n",
       "      <td>1</td>\n",
       "      <td>0</td>\n",
       "      <td>1</td>\n",
       "      <td>1</td>\n",
       "      <td>0</td>\n",
       "      <td>1</td>\n",
       "      <td>0</td>\n",
       "      <td>0</td>\n",
       "      <td>1</td>\n",
       "      <td>0</td>\n",
       "      <td>0</td>\n",
       "      <td>0</td>\n",
       "      <td>1</td>\n",
       "      <td>0</td>\n",
       "      <td>1</td>\n",
       "      <td>0</td>\n",
       "      <td>0</td>\n",
       "      <td>0</td>\n",
       "      <td>1</td>\n",
       "      <td>0</td>\n",
       "      <td>1</td>\n",
       "    </tr>\n",
       "  </tbody>\n",
       "</table>\n",
       "</div>"
      ],
      "text/plain": [
       "           ParentEduc TestPrep PracticeSport  NrSiblings WklyStudyHours  MathScore  ReadingScore  WritingScore  ParentEduc_int  TestPrep_int  PracticeSport_int  WklyStudyHours_int  Gender_female  Gender_male  EthnicGroup_group A  EthnicGroup_group B  EthnicGroup_group C  EthnicGroup_group D  EthnicGroup_group E  LunchType_free/reduced  LunchType_standard  ParentMaritalStatus_divorced  ParentMaritalStatus_married  ParentMaritalStatus_single  ParentMaritalStatus_widowed  IsFirstChild_no  IsFirstChild_yes  TransportMeans_private  TransportMeans_school_bus\n",
       "0   bachelor's degree     none     regularly           3            < 5         71            71            74               2             0                  2                   0              1            0                    0                    0                    1                    0                    0                       0                   1                             0                            1                           0                            0                0                 1                       0                          1\n",
       "1        some college     none     sometimes           0         5 - 10         69            90            88               1             0                  1                   1              1            0                    0                    0                    1                    0                    0                       0                   1                             0                            1                           0                            0                0                 1                       0                          1\n",
       "2     master's degree     none     sometimes           4            < 5         87            93            91               3             0                  1                   0              1            0                    0                    1                    0                    0                    0                       0                   1                             0                            0                           1                            0                0                 1                       0                          1\n",
       "3  associate's degree     none         never           1         5 - 10         45            56            42               2             0                  0                   1              0            1                    1                    0                    0                    0                    0                       1                   0                             0                            1                           0                            0                1                 0                       0                          1\n",
       "4        some college     none     sometimes           0         5 - 10         76            78            75               1             0                  1                   1              0            1                    0                    0                    1                    0                    0                       0                   1                             0                            1                           0                            0                0                 1                       0                          1"
      ]
     },
     "execution_count": 67,
     "metadata": {},
     "output_type": "execute_result"
    }
   ],
   "source": [
    "df4.head()"
   ]
  },
  {
   "cell_type": "code",
   "execution_count": null,
   "id": "b9e89212-1fb7-4fa7-815f-8ce5402a2ef4",
   "metadata": {},
   "outputs": [],
   "source": []
  },
  {
   "cell_type": "code",
   "execution_count": 68,
   "id": "06341d0c-b17a-4a29-89a4-a2acd0e94d81",
   "metadata": {},
   "outputs": [
    {
     "data": {
      "text/html": [
       "<div>\n",
       "<style scoped>\n",
       "    .dataframe tbody tr th:only-of-type {\n",
       "        vertical-align: middle;\n",
       "    }\n",
       "\n",
       "    .dataframe tbody tr th {\n",
       "        vertical-align: top;\n",
       "    }\n",
       "\n",
       "    .dataframe thead th {\n",
       "        text-align: right;\n",
       "    }\n",
       "</style>\n",
       "<table border=\"1\" class=\"dataframe\">\n",
       "  <thead>\n",
       "    <tr style=\"text-align: right;\">\n",
       "      <th></th>\n",
       "      <th>ParentEduc_int</th>\n",
       "      <th>TestPrep_int</th>\n",
       "      <th>PracticeSport_int</th>\n",
       "      <th>WklyStudyHours_int</th>\n",
       "      <th>Gender_female</th>\n",
       "      <th>Gender_male</th>\n",
       "      <th>EthnicGroup_group A</th>\n",
       "      <th>EthnicGroup_group B</th>\n",
       "      <th>EthnicGroup_group C</th>\n",
       "      <th>EthnicGroup_group D</th>\n",
       "      <th>EthnicGroup_group E</th>\n",
       "      <th>LunchType_free/reduced</th>\n",
       "      <th>LunchType_standard</th>\n",
       "      <th>ParentMaritalStatus_divorced</th>\n",
       "      <th>ParentMaritalStatus_married</th>\n",
       "      <th>ParentMaritalStatus_single</th>\n",
       "      <th>ParentMaritalStatus_widowed</th>\n",
       "      <th>IsFirstChild_no</th>\n",
       "      <th>IsFirstChild_yes</th>\n",
       "      <th>TransportMeans_private</th>\n",
       "      <th>TransportMeans_school_bus</th>\n",
       "      <th>MathScore</th>\n",
       "      <th>ReadingScore</th>\n",
       "      <th>WritingScore</th>\n",
       "    </tr>\n",
       "  </thead>\n",
       "  <tbody>\n",
       "    <tr>\n",
       "      <th>0</th>\n",
       "      <td>2</td>\n",
       "      <td>0</td>\n",
       "      <td>2</td>\n",
       "      <td>0</td>\n",
       "      <td>1</td>\n",
       "      <td>0</td>\n",
       "      <td>0</td>\n",
       "      <td>0</td>\n",
       "      <td>1</td>\n",
       "      <td>0</td>\n",
       "      <td>0</td>\n",
       "      <td>0</td>\n",
       "      <td>1</td>\n",
       "      <td>0</td>\n",
       "      <td>1</td>\n",
       "      <td>0</td>\n",
       "      <td>0</td>\n",
       "      <td>0</td>\n",
       "      <td>1</td>\n",
       "      <td>0</td>\n",
       "      <td>1</td>\n",
       "      <td>71</td>\n",
       "      <td>71</td>\n",
       "      <td>74</td>\n",
       "    </tr>\n",
       "    <tr>\n",
       "      <th>1</th>\n",
       "      <td>1</td>\n",
       "      <td>0</td>\n",
       "      <td>1</td>\n",
       "      <td>1</td>\n",
       "      <td>1</td>\n",
       "      <td>0</td>\n",
       "      <td>0</td>\n",
       "      <td>0</td>\n",
       "      <td>1</td>\n",
       "      <td>0</td>\n",
       "      <td>0</td>\n",
       "      <td>0</td>\n",
       "      <td>1</td>\n",
       "      <td>0</td>\n",
       "      <td>1</td>\n",
       "      <td>0</td>\n",
       "      <td>0</td>\n",
       "      <td>0</td>\n",
       "      <td>1</td>\n",
       "      <td>0</td>\n",
       "      <td>1</td>\n",
       "      <td>69</td>\n",
       "      <td>90</td>\n",
       "      <td>88</td>\n",
       "    </tr>\n",
       "    <tr>\n",
       "      <th>2</th>\n",
       "      <td>3</td>\n",
       "      <td>0</td>\n",
       "      <td>1</td>\n",
       "      <td>0</td>\n",
       "      <td>1</td>\n",
       "      <td>0</td>\n",
       "      <td>0</td>\n",
       "      <td>1</td>\n",
       "      <td>0</td>\n",
       "      <td>0</td>\n",
       "      <td>0</td>\n",
       "      <td>0</td>\n",
       "      <td>1</td>\n",
       "      <td>0</td>\n",
       "      <td>0</td>\n",
       "      <td>1</td>\n",
       "      <td>0</td>\n",
       "      <td>0</td>\n",
       "      <td>1</td>\n",
       "      <td>0</td>\n",
       "      <td>1</td>\n",
       "      <td>87</td>\n",
       "      <td>93</td>\n",
       "      <td>91</td>\n",
       "    </tr>\n",
       "    <tr>\n",
       "      <th>3</th>\n",
       "      <td>2</td>\n",
       "      <td>0</td>\n",
       "      <td>0</td>\n",
       "      <td>1</td>\n",
       "      <td>0</td>\n",
       "      <td>1</td>\n",
       "      <td>1</td>\n",
       "      <td>0</td>\n",
       "      <td>0</td>\n",
       "      <td>0</td>\n",
       "      <td>0</td>\n",
       "      <td>1</td>\n",
       "      <td>0</td>\n",
       "      <td>0</td>\n",
       "      <td>1</td>\n",
       "      <td>0</td>\n",
       "      <td>0</td>\n",
       "      <td>1</td>\n",
       "      <td>0</td>\n",
       "      <td>0</td>\n",
       "      <td>1</td>\n",
       "      <td>45</td>\n",
       "      <td>56</td>\n",
       "      <td>42</td>\n",
       "    </tr>\n",
       "    <tr>\n",
       "      <th>4</th>\n",
       "      <td>1</td>\n",
       "      <td>0</td>\n",
       "      <td>1</td>\n",
       "      <td>1</td>\n",
       "      <td>0</td>\n",
       "      <td>1</td>\n",
       "      <td>0</td>\n",
       "      <td>0</td>\n",
       "      <td>1</td>\n",
       "      <td>0</td>\n",
       "      <td>0</td>\n",
       "      <td>0</td>\n",
       "      <td>1</td>\n",
       "      <td>0</td>\n",
       "      <td>1</td>\n",
       "      <td>0</td>\n",
       "      <td>0</td>\n",
       "      <td>0</td>\n",
       "      <td>1</td>\n",
       "      <td>0</td>\n",
       "      <td>1</td>\n",
       "      <td>76</td>\n",
       "      <td>78</td>\n",
       "      <td>75</td>\n",
       "    </tr>\n",
       "  </tbody>\n",
       "</table>\n",
       "</div>"
      ],
      "text/plain": [
       "   ParentEduc_int  TestPrep_int  PracticeSport_int  WklyStudyHours_int  Gender_female  Gender_male  EthnicGroup_group A  EthnicGroup_group B  EthnicGroup_group C  EthnicGroup_group D  EthnicGroup_group E  LunchType_free/reduced  LunchType_standard  ParentMaritalStatus_divorced  ParentMaritalStatus_married  ParentMaritalStatus_single  ParentMaritalStatus_widowed  IsFirstChild_no  IsFirstChild_yes  TransportMeans_private  TransportMeans_school_bus  MathScore  ReadingScore  WritingScore\n",
       "0               2             0                  2                   0              1            0                    0                    0                    1                    0                    0                       0                   1                             0                            1                           0                            0                0                 1                       0                          1         71            71            74\n",
       "1               1             0                  1                   1              1            0                    0                    0                    1                    0                    0                       0                   1                             0                            1                           0                            0                0                 1                       0                          1         69            90            88\n",
       "2               3             0                  1                   0              1            0                    0                    1                    0                    0                    0                       0                   1                             0                            0                           1                            0                0                 1                       0                          1         87            93            91\n",
       "3               2             0                  0                   1              0            1                    1                    0                    0                    0                    0                       1                   0                             0                            1                           0                            0                1                 0                       0                          1         45            56            42\n",
       "4               1             0                  1                   1              0            1                    0                    0                    1                    0                    0                       0                   1                             0                            1                           0                            0                0                 1                       0                          1         76            78            75"
      ]
     },
     "execution_count": 68,
     "metadata": {},
     "output_type": "execute_result"
    }
   ],
   "source": [
    "modeling_cols = ['ParentEduc_int', 'TestPrep_int', 'PracticeSport_int', 'WklyStudyHours_int', \n",
    "                 'Gender_female', 'Gender_male', \n",
    "                 'EthnicGroup_group A', 'EthnicGroup_group B', 'EthnicGroup_group C', 'EthnicGroup_group D', 'EthnicGroup_group E', \n",
    "                 'LunchType_free/reduced', 'LunchType_standard', \n",
    "                 'ParentMaritalStatus_divorced', 'ParentMaritalStatus_married', 'ParentMaritalStatus_single', 'ParentMaritalStatus_widowed',\n",
    "                 'IsFirstChild_no', 'IsFirstChild_yes', \n",
    "                 'TransportMeans_private', 'TransportMeans_school_bus', \n",
    "                 'MathScore', 'ReadingScore', 'WritingScore', \n",
    "                ]\n",
    "\n",
    "modeling_df = df4[modeling_cols]\n",
    "\n",
    "\n",
    "modeling_df.head()\n"
   ]
  },
  {
   "cell_type": "code",
   "execution_count": null,
   "id": "37286404-9a66-4f4f-b3b4-2f7f30d71716",
   "metadata": {},
   "outputs": [],
   "source": []
  },
  {
   "cell_type": "code",
   "execution_count": 69,
   "id": "c81464cb-32b8-45a3-a3ff-c3c38a94cdda",
   "metadata": {},
   "outputs": [],
   "source": [
    "modeling_df.to_csv('modeling_df.csv', index=False)"
   ]
  },
  {
   "cell_type": "code",
   "execution_count": 78,
   "id": "c5cbce41-0808-4dcf-b605-32c319b36075",
   "metadata": {},
   "outputs": [
    {
     "data": {
      "text/plain": [
       "(30641, 24)"
      ]
     },
     "execution_count": 78,
     "metadata": {},
     "output_type": "execute_result"
    }
   ],
   "source": [
    "modeling_df.shape"
   ]
  },
  {
   "cell_type": "code",
   "execution_count": null,
   "id": "4511360e-3221-4a3c-a318-daadb45c5576",
   "metadata": {},
   "outputs": [],
   "source": []
  },
  {
   "cell_type": "code",
   "execution_count": 79,
   "id": "a898b2e0-e4c5-498f-9144-f89f4ddbfa89",
   "metadata": {},
   "outputs": [
    {
     "data": {
      "text/plain": [
       "count   30641.000000\n",
       "mean       66.558402\n",
       "std        15.361616\n",
       "min         0.000000\n",
       "25%        56.000000\n",
       "50%        67.000000\n",
       "75%        78.000000\n",
       "max       100.000000\n",
       "Name: MathScore, dtype: float64"
      ]
     },
     "execution_count": 79,
     "metadata": {},
     "output_type": "execute_result"
    }
   ],
   "source": [
    "modeling_df['MathScore'].describe()"
   ]
  },
  {
   "cell_type": "code",
   "execution_count": null,
   "id": "2ea9f57c-e18d-4896-a8de-97110a20bd03",
   "metadata": {},
   "outputs": [],
   "source": []
  },
  {
   "cell_type": "markdown",
   "id": "f1a8134e-b3b6-4cb1-9277-db40494b098d",
   "metadata": {},
   "source": [
    "# Adding Fake data"
   ]
  },
  {
   "cell_type": "code",
   "execution_count": 82,
   "id": "5ff2a007-face-4ee8-afdf-bbd2ff559d6e",
   "metadata": {},
   "outputs": [
    {
     "data": {
      "text/plain": [
       "['EthnicGroup_group A',\n",
       " 'EthnicGroup_group B',\n",
       " 'EthnicGroup_group C',\n",
       " 'EthnicGroup_group D',\n",
       " 'EthnicGroup_group E',\n",
       " 'Gender_female',\n",
       " 'Gender_male',\n",
       " 'IsFirstChild_no',\n",
       " 'IsFirstChild_yes',\n",
       " 'LunchType_free/reduced',\n",
       " 'LunchType_standard',\n",
       " 'MathScore',\n",
       " 'ParentEduc_int',\n",
       " 'ParentMaritalStatus_divorced',\n",
       " 'ParentMaritalStatus_married',\n",
       " 'ParentMaritalStatus_single',\n",
       " 'ParentMaritalStatus_widowed',\n",
       " 'PracticeSport_int',\n",
       " 'ReadingScore',\n",
       " 'TestPrep_int',\n",
       " 'TransportMeans_private',\n",
       " 'TransportMeans_school_bus',\n",
       " 'WklyStudyHours_int',\n",
       " 'WritingScore']"
      ]
     },
     "execution_count": 82,
     "metadata": {},
     "output_type": "execute_result"
    }
   ],
   "source": [
    "sorted(list(modeling_df.columns))"
   ]
  },
  {
   "cell_type": "code",
   "execution_count": 81,
   "id": "1e46e058-545f-4e3c-a76b-3177fd244df6",
   "metadata": {},
   "outputs": [
    {
     "data": {
      "text/plain": [
       "(30641, 24)"
      ]
     },
     "execution_count": 81,
     "metadata": {},
     "output_type": "execute_result"
    }
   ],
   "source": [
    "modeling_df.shape"
   ]
  },
  {
   "cell_type": "code",
   "execution_count": 86,
   "id": "ebf3db99-b883-40fa-851f-89964e23a37a",
   "metadata": {},
   "outputs": [
    {
     "data": {
      "text/plain": [
       "(7, 17)"
      ]
     },
     "execution_count": 86,
     "metadata": {},
     "output_type": "execute_result"
    }
   ],
   "source": [
    "int_cols = modeling_df.select_dtypes(include='int').columns\n",
    "cat_cols = modeling_df.select_dtypes(exclude='int').columns\n",
    "\n",
    "len(int_cols), len(cat_cols)"
   ]
  },
  {
   "cell_type": "code",
   "execution_count": 87,
   "id": "c0de1b83-be33-4259-b78f-9e4856b05574",
   "metadata": {},
   "outputs": [
    {
     "data": {
      "text/plain": [
       "Index(['ParentEduc_int', 'TestPrep_int', 'PracticeSport_int', 'WklyStudyHours_int', 'MathScore', 'ReadingScore', 'WritingScore'], dtype='object')"
      ]
     },
     "execution_count": 87,
     "metadata": {},
     "output_type": "execute_result"
    }
   ],
   "source": [
    "int_cols"
   ]
  },
  {
   "cell_type": "code",
   "execution_count": 99,
   "id": "ac786c7f-9523-4a44-ae09-86482c9a0a78",
   "metadata": {
    "tags": []
   },
   "outputs": [
    {
     "name": "stdout",
     "output_type": "stream",
     "text": [
      "20000\n"
     ]
    },
    {
     "data": {
      "text/plain": [
       "(50641, 24)"
      ]
     },
     "execution_count": 99,
     "metadata": {},
     "output_type": "execute_result"
    }
   ],
   "source": [
    "num_additional_data = 20000\n",
    "\n",
    "# additional_data = pd.DataFrame()\n",
    "new_data_list = []\n",
    "\n",
    "for _ in range(num_additional_data):    \n",
    "    new_data = {}\n",
    "    for cc in cat_cols:    \n",
    "        new_data[cc] = np.random.choice(modeling_df[cc])\n",
    "\n",
    "    for ic in int_cols:    \n",
    "        # minval, maxval = min(modeling_df[ic]), max(modeling_df[ic])\n",
    "        # new_data[ic] = np.random.randint(minval, maxval+1)\n",
    "        new_data[ic] = np.random.choice(modeling_df[ic])\n",
    "    \n",
    "    new_data_list.append(new_data)\n",
    "        \n",
    "print(len(new_data_list))\n",
    "additional_data = pd.DataFrame().from_records(new_data_list)\n",
    "\n",
    "modeling_df1 = pd.concat([modeling_df, additional_data], ignore_index=True)\n",
    "\n",
    "modeling_df1.shape"
   ]
  },
  {
   "cell_type": "code",
   "execution_count": null,
   "id": "6e555806-aa91-4ce4-b856-15686490c14e",
   "metadata": {},
   "outputs": [],
   "source": []
  },
  {
   "cell_type": "code",
   "execution_count": 100,
   "id": "11ca60b5-e47f-4197-b86f-de627528b7ad",
   "metadata": {},
   "outputs": [
    {
     "data": {
      "text/plain": [
       "['MathScore', 'ReadingScore', 'WritingScore']"
      ]
     },
     "execution_count": 100,
     "metadata": {},
     "output_type": "execute_result"
    }
   ],
   "source": [
    "num_cols"
   ]
  },
  {
   "cell_type": "code",
   "execution_count": 101,
   "id": "39689bd3-a725-45c7-8ee0-d7373eb66b86",
   "metadata": {},
   "outputs": [
    {
     "name": "stdout",
     "output_type": "stream",
     "text": [
      "MathScore\n"
     ]
    },
    {
     "data": {
      "image/png": "[encoded data removed]",
      "text/plain": [
       "<Figure size 640x480 with 1 Axes>"
      ]
     },
     "metadata": {},
     "output_type": "display_data"
    }
   ],
   "source": [
    "print(num_cols[0])\n",
    "plt.hist(modeling_df[num_cols[0]], bins=20)\n",
    "plt.show()"
   ]
  },
  {
   "cell_type": "code",
   "execution_count": 102,
   "id": "dae591ac-04fa-40e2-b0df-c9407e80bcf5",
   "metadata": {},
   "outputs": [
    {
     "name": "stdout",
     "output_type": "stream",
     "text": [
      "MathScore\n"
     ]
    },
    {
     "data": {
      "image/png": "[encoded data removed]",
      "text/plain": [
       "<Figure size 640x480 with 1 Axes>"
      ]
     },
     "metadata": {},
     "output_type": "display_data"
    }
   ],
   "source": [
    "print(num_cols[0])\n",
    "plt.hist(modeling_df1[num_cols[0]], bins=20)\n",
    "plt.show()"
   ]
  },
  {
   "cell_type": "code",
   "execution_count": null,
   "id": "b9557401-c7bf-409a-b181-86661b8c363f",
   "metadata": {},
   "outputs": [],
   "source": []
  },
  {
   "cell_type": "code",
   "execution_count": 103,
   "id": "0693f0c0-8759-436a-a4a2-a63820206630",
   "metadata": {},
   "outputs": [],
   "source": [
    "modeling_df1.to_csv('modeling_df1.csv', index=False)"
   ]
  },
  {
   "cell_type": "code",
   "execution_count": 104,
   "id": "1a978f49-9fee-4916-aed4-5a8ff0877ecb",
   "metadata": {},
   "outputs": [
    {
     "data": {
      "text/plain": [
       "(50641, 24)"
      ]
     },
     "execution_count": 104,
     "metadata": {},
     "output_type": "execute_result"
    }
   ],
   "source": [
    "modeling_df1.shape"
   ]
  },
  {
   "cell_type": "code",
   "execution_count": null,
   "id": "2ca4d20b-1a38-431f-b2b7-114be47bd450",
   "metadata": {},
   "outputs": [],
   "source": []
  }
 ],
 "metadata": {
  "kernelspec": {
   "display_name": "Python [conda env:Graph]",
   "language": "python",
   "name": "conda-env-Graph-py"
  },
  "language_info": {
   "codemirror_mode": {
    "name": "ipython",
    "version": 3
   },
   "file_extension": ".py",
   "mimetype": "text/x-python",
   "name": "python",
   "nbconvert_exporter": "python",
   "pygments_lexer": "ipython3",
   "version": "3.8.16"
  }
 },
 "nbformat": 4,
 "nbformat_minor": 5
}
